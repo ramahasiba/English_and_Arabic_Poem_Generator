{
  "nbformat": 4,
  "nbformat_minor": 0,
  "metadata": {
    "colab": {
      "provenance": []
    },
    "kernelspec": {
      "name": "python3",
      "display_name": "Python 3"
    },
    "language_info": {
      "name": "python"
    },
    "widgets": {
      "application/vnd.jupyter.widget-state+json": {
        "060d1382b92b447a9b86bdfa92cbfdb5": {
          "model_module": "@jupyter-widgets/controls",
          "model_name": "HBoxModel",
          "model_module_version": "1.5.0",
          "state": {
            "_dom_classes": [],
            "_model_module": "@jupyter-widgets/controls",
            "_model_module_version": "1.5.0",
            "_model_name": "HBoxModel",
            "_view_count": null,
            "_view_module": "@jupyter-widgets/controls",
            "_view_module_version": "1.5.0",
            "_view_name": "HBoxView",
            "box_style": "",
            "children": [
              "IPY_MODEL_c754a549685b436c84cde0675e37f4f3",
              "IPY_MODEL_d40997fc82d54a8eae9e026eff1c8519",
              "IPY_MODEL_758644349e61430cb215753b5f3683e9"
            ],
            "layout": "IPY_MODEL_e835f28ca0494ef487c45ad31f9f0bb5"
          }
        },
        "c754a549685b436c84cde0675e37f4f3": {
          "model_module": "@jupyter-widgets/controls",
          "model_name": "HTMLModel",
          "model_module_version": "1.5.0",
          "state": {
            "_dom_classes": [],
            "_model_module": "@jupyter-widgets/controls",
            "_model_module_version": "1.5.0",
            "_model_name": "HTMLModel",
            "_view_count": null,
            "_view_module": "@jupyter-widgets/controls",
            "_view_module_version": "1.5.0",
            "_view_name": "HTMLView",
            "description": "",
            "description_tooltip": null,
            "layout": "IPY_MODEL_4af6cb0233b948c99a197ce862f6713e",
            "placeholder": "​",
            "style": "IPY_MODEL_054529940031470f8c7b35444188f563",
            "value": "Downloading (…)/main/tokenizer.json: 100%"
          }
        },
        "d40997fc82d54a8eae9e026eff1c8519": {
          "model_module": "@jupyter-widgets/controls",
          "model_name": "FloatProgressModel",
          "model_module_version": "1.5.0",
          "state": {
            "_dom_classes": [],
            "_model_module": "@jupyter-widgets/controls",
            "_model_module_version": "1.5.0",
            "_model_name": "FloatProgressModel",
            "_view_count": null,
            "_view_module": "@jupyter-widgets/controls",
            "_view_module_version": "1.5.0",
            "_view_name": "ProgressView",
            "bar_style": "success",
            "description": "",
            "description_tooltip": null,
            "layout": "IPY_MODEL_ef6e76d4ec3542f88c58f708360afd38",
            "max": 4519765,
            "min": 0,
            "orientation": "horizontal",
            "style": "IPY_MODEL_4c3eb50d10e74112b5f2b6f7a4c45783",
            "value": 4519765
          }
        },
        "758644349e61430cb215753b5f3683e9": {
          "model_module": "@jupyter-widgets/controls",
          "model_name": "HTMLModel",
          "model_module_version": "1.5.0",
          "state": {
            "_dom_classes": [],
            "_model_module": "@jupyter-widgets/controls",
            "_model_module_version": "1.5.0",
            "_model_name": "HTMLModel",
            "_view_count": null,
            "_view_module": "@jupyter-widgets/controls",
            "_view_module_version": "1.5.0",
            "_view_name": "HTMLView",
            "description": "",
            "description_tooltip": null,
            "layout": "IPY_MODEL_520358599826491ba09de19e6c38c8db",
            "placeholder": "​",
            "style": "IPY_MODEL_a40294d505b640df999ebb0243292ce1",
            "value": " 4.52M/4.52M [00:00&lt;00:00, 30.3MB/s]"
          }
        },
        "e835f28ca0494ef487c45ad31f9f0bb5": {
          "model_module": "@jupyter-widgets/base",
          "model_name": "LayoutModel",
          "model_module_version": "1.2.0",
          "state": {
            "_model_module": "@jupyter-widgets/base",
            "_model_module_version": "1.2.0",
            "_model_name": "LayoutModel",
            "_view_count": null,
            "_view_module": "@jupyter-widgets/base",
            "_view_module_version": "1.2.0",
            "_view_name": "LayoutView",
            "align_content": null,
            "align_items": null,
            "align_self": null,
            "border": null,
            "bottom": null,
            "display": null,
            "flex": null,
            "flex_flow": null,
            "grid_area": null,
            "grid_auto_columns": null,
            "grid_auto_flow": null,
            "grid_auto_rows": null,
            "grid_column": null,
            "grid_gap": null,
            "grid_row": null,
            "grid_template_areas": null,
            "grid_template_columns": null,
            "grid_template_rows": null,
            "height": null,
            "justify_content": null,
            "justify_items": null,
            "left": null,
            "margin": null,
            "max_height": null,
            "max_width": null,
            "min_height": null,
            "min_width": null,
            "object_fit": null,
            "object_position": null,
            "order": null,
            "overflow": null,
            "overflow_x": null,
            "overflow_y": null,
            "padding": null,
            "right": null,
            "top": null,
            "visibility": null,
            "width": null
          }
        },
        "4af6cb0233b948c99a197ce862f6713e": {
          "model_module": "@jupyter-widgets/base",
          "model_name": "LayoutModel",
          "model_module_version": "1.2.0",
          "state": {
            "_model_module": "@jupyter-widgets/base",
            "_model_module_version": "1.2.0",
            "_model_name": "LayoutModel",
            "_view_count": null,
            "_view_module": "@jupyter-widgets/base",
            "_view_module_version": "1.2.0",
            "_view_name": "LayoutView",
            "align_content": null,
            "align_items": null,
            "align_self": null,
            "border": null,
            "bottom": null,
            "display": null,
            "flex": null,
            "flex_flow": null,
            "grid_area": null,
            "grid_auto_columns": null,
            "grid_auto_flow": null,
            "grid_auto_rows": null,
            "grid_column": null,
            "grid_gap": null,
            "grid_row": null,
            "grid_template_areas": null,
            "grid_template_columns": null,
            "grid_template_rows": null,
            "height": null,
            "justify_content": null,
            "justify_items": null,
            "left": null,
            "margin": null,
            "max_height": null,
            "max_width": null,
            "min_height": null,
            "min_width": null,
            "object_fit": null,
            "object_position": null,
            "order": null,
            "overflow": null,
            "overflow_x": null,
            "overflow_y": null,
            "padding": null,
            "right": null,
            "top": null,
            "visibility": null,
            "width": null
          }
        },
        "054529940031470f8c7b35444188f563": {
          "model_module": "@jupyter-widgets/controls",
          "model_name": "DescriptionStyleModel",
          "model_module_version": "1.5.0",
          "state": {
            "_model_module": "@jupyter-widgets/controls",
            "_model_module_version": "1.5.0",
            "_model_name": "DescriptionStyleModel",
            "_view_count": null,
            "_view_module": "@jupyter-widgets/base",
            "_view_module_version": "1.2.0",
            "_view_name": "StyleView",
            "description_width": ""
          }
        },
        "ef6e76d4ec3542f88c58f708360afd38": {
          "model_module": "@jupyter-widgets/base",
          "model_name": "LayoutModel",
          "model_module_version": "1.2.0",
          "state": {
            "_model_module": "@jupyter-widgets/base",
            "_model_module_version": "1.2.0",
            "_model_name": "LayoutModel",
            "_view_count": null,
            "_view_module": "@jupyter-widgets/base",
            "_view_module_version": "1.2.0",
            "_view_name": "LayoutView",
            "align_content": null,
            "align_items": null,
            "align_self": null,
            "border": null,
            "bottom": null,
            "display": null,
            "flex": null,
            "flex_flow": null,
            "grid_area": null,
            "grid_auto_columns": null,
            "grid_auto_flow": null,
            "grid_auto_rows": null,
            "grid_column": null,
            "grid_gap": null,
            "grid_row": null,
            "grid_template_areas": null,
            "grid_template_columns": null,
            "grid_template_rows": null,
            "height": null,
            "justify_content": null,
            "justify_items": null,
            "left": null,
            "margin": null,
            "max_height": null,
            "max_width": null,
            "min_height": null,
            "min_width": null,
            "object_fit": null,
            "object_position": null,
            "order": null,
            "overflow": null,
            "overflow_x": null,
            "overflow_y": null,
            "padding": null,
            "right": null,
            "top": null,
            "visibility": null,
            "width": null
          }
        },
        "4c3eb50d10e74112b5f2b6f7a4c45783": {
          "model_module": "@jupyter-widgets/controls",
          "model_name": "ProgressStyleModel",
          "model_module_version": "1.5.0",
          "state": {
            "_model_module": "@jupyter-widgets/controls",
            "_model_module_version": "1.5.0",
            "_model_name": "ProgressStyleModel",
            "_view_count": null,
            "_view_module": "@jupyter-widgets/base",
            "_view_module_version": "1.2.0",
            "_view_name": "StyleView",
            "bar_color": null,
            "description_width": ""
          }
        },
        "520358599826491ba09de19e6c38c8db": {
          "model_module": "@jupyter-widgets/base",
          "model_name": "LayoutModel",
          "model_module_version": "1.2.0",
          "state": {
            "_model_module": "@jupyter-widgets/base",
            "_model_module_version": "1.2.0",
            "_model_name": "LayoutModel",
            "_view_count": null,
            "_view_module": "@jupyter-widgets/base",
            "_view_module_version": "1.2.0",
            "_view_name": "LayoutView",
            "align_content": null,
            "align_items": null,
            "align_self": null,
            "border": null,
            "bottom": null,
            "display": null,
            "flex": null,
            "flex_flow": null,
            "grid_area": null,
            "grid_auto_columns": null,
            "grid_auto_flow": null,
            "grid_auto_rows": null,
            "grid_column": null,
            "grid_gap": null,
            "grid_row": null,
            "grid_template_areas": null,
            "grid_template_columns": null,
            "grid_template_rows": null,
            "height": null,
            "justify_content": null,
            "justify_items": null,
            "left": null,
            "margin": null,
            "max_height": null,
            "max_width": null,
            "min_height": null,
            "min_width": null,
            "object_fit": null,
            "object_position": null,
            "order": null,
            "overflow": null,
            "overflow_x": null,
            "overflow_y": null,
            "padding": null,
            "right": null,
            "top": null,
            "visibility": null,
            "width": null
          }
        },
        "a40294d505b640df999ebb0243292ce1": {
          "model_module": "@jupyter-widgets/controls",
          "model_name": "DescriptionStyleModel",
          "model_module_version": "1.5.0",
          "state": {
            "_model_module": "@jupyter-widgets/controls",
            "_model_module_version": "1.5.0",
            "_model_name": "DescriptionStyleModel",
            "_view_count": null,
            "_view_module": "@jupyter-widgets/base",
            "_view_module_version": "1.2.0",
            "_view_name": "StyleView",
            "description_width": ""
          }
        },
        "46fa5c2a5f904874a90b2ddee782249d": {
          "model_module": "@jupyter-widgets/controls",
          "model_name": "HBoxModel",
          "model_module_version": "1.5.0",
          "state": {
            "_dom_classes": [],
            "_model_module": "@jupyter-widgets/controls",
            "_model_module_version": "1.5.0",
            "_model_name": "HBoxModel",
            "_view_count": null,
            "_view_module": "@jupyter-widgets/controls",
            "_view_module_version": "1.5.0",
            "_view_name": "HBoxView",
            "box_style": "",
            "children": [
              "IPY_MODEL_23c487d136004b1e8b986315eb65b2b0",
              "IPY_MODEL_8567f15ea4b94f60a01568791a1b9e35",
              "IPY_MODEL_87268c3ee5b649118c23c5f1bc64aa14"
            ],
            "layout": "IPY_MODEL_fe4359be84cd424b99c59cd4e52fa89d"
          }
        },
        "23c487d136004b1e8b986315eb65b2b0": {
          "model_module": "@jupyter-widgets/controls",
          "model_name": "HTMLModel",
          "model_module_version": "1.5.0",
          "state": {
            "_dom_classes": [],
            "_model_module": "@jupyter-widgets/controls",
            "_model_module_version": "1.5.0",
            "_model_name": "HTMLModel",
            "_view_count": null,
            "_view_module": "@jupyter-widgets/controls",
            "_view_module_version": "1.5.0",
            "_view_name": "HTMLView",
            "description": "",
            "description_tooltip": null,
            "layout": "IPY_MODEL_acb412cb257a4049a6dba41f940e9a6b",
            "placeholder": "​",
            "style": "IPY_MODEL_c6352d573c5f42e59d7832ab22667edf",
            "value": "Downloading (…)olve/main/vocab.json: 100%"
          }
        },
        "8567f15ea4b94f60a01568791a1b9e35": {
          "model_module": "@jupyter-widgets/controls",
          "model_name": "FloatProgressModel",
          "model_module_version": "1.5.0",
          "state": {
            "_dom_classes": [],
            "_model_module": "@jupyter-widgets/controls",
            "_model_module_version": "1.5.0",
            "_model_name": "FloatProgressModel",
            "_view_count": null,
            "_view_module": "@jupyter-widgets/controls",
            "_view_module_version": "1.5.0",
            "_view_name": "ProgressView",
            "bar_style": "success",
            "description": "",
            "description_tooltip": null,
            "layout": "IPY_MODEL_b6fa7300c62e4215bf254265e663adac",
            "max": 1042301,
            "min": 0,
            "orientation": "horizontal",
            "style": "IPY_MODEL_8ecf36648ed74354b424f2f8b57a914b",
            "value": 1042301
          }
        },
        "87268c3ee5b649118c23c5f1bc64aa14": {
          "model_module": "@jupyter-widgets/controls",
          "model_name": "HTMLModel",
          "model_module_version": "1.5.0",
          "state": {
            "_dom_classes": [],
            "_model_module": "@jupyter-widgets/controls",
            "_model_module_version": "1.5.0",
            "_model_name": "HTMLModel",
            "_view_count": null,
            "_view_module": "@jupyter-widgets/controls",
            "_view_module_version": "1.5.0",
            "_view_name": "HTMLView",
            "description": "",
            "description_tooltip": null,
            "layout": "IPY_MODEL_0f67095d8dee42f8bf20358086a6d397",
            "placeholder": "​",
            "style": "IPY_MODEL_5025b43edb7b4f90a8027517ec5eec2f",
            "value": " 1.04M/1.04M [00:00&lt;00:00, 36.4MB/s]"
          }
        },
        "fe4359be84cd424b99c59cd4e52fa89d": {
          "model_module": "@jupyter-widgets/base",
          "model_name": "LayoutModel",
          "model_module_version": "1.2.0",
          "state": {
            "_model_module": "@jupyter-widgets/base",
            "_model_module_version": "1.2.0",
            "_model_name": "LayoutModel",
            "_view_count": null,
            "_view_module": "@jupyter-widgets/base",
            "_view_module_version": "1.2.0",
            "_view_name": "LayoutView",
            "align_content": null,
            "align_items": null,
            "align_self": null,
            "border": null,
            "bottom": null,
            "display": null,
            "flex": null,
            "flex_flow": null,
            "grid_area": null,
            "grid_auto_columns": null,
            "grid_auto_flow": null,
            "grid_auto_rows": null,
            "grid_column": null,
            "grid_gap": null,
            "grid_row": null,
            "grid_template_areas": null,
            "grid_template_columns": null,
            "grid_template_rows": null,
            "height": null,
            "justify_content": null,
            "justify_items": null,
            "left": null,
            "margin": null,
            "max_height": null,
            "max_width": null,
            "min_height": null,
            "min_width": null,
            "object_fit": null,
            "object_position": null,
            "order": null,
            "overflow": null,
            "overflow_x": null,
            "overflow_y": null,
            "padding": null,
            "right": null,
            "top": null,
            "visibility": null,
            "width": null
          }
        },
        "acb412cb257a4049a6dba41f940e9a6b": {
          "model_module": "@jupyter-widgets/base",
          "model_name": "LayoutModel",
          "model_module_version": "1.2.0",
          "state": {
            "_model_module": "@jupyter-widgets/base",
            "_model_module_version": "1.2.0",
            "_model_name": "LayoutModel",
            "_view_count": null,
            "_view_module": "@jupyter-widgets/base",
            "_view_module_version": "1.2.0",
            "_view_name": "LayoutView",
            "align_content": null,
            "align_items": null,
            "align_self": null,
            "border": null,
            "bottom": null,
            "display": null,
            "flex": null,
            "flex_flow": null,
            "grid_area": null,
            "grid_auto_columns": null,
            "grid_auto_flow": null,
            "grid_auto_rows": null,
            "grid_column": null,
            "grid_gap": null,
            "grid_row": null,
            "grid_template_areas": null,
            "grid_template_columns": null,
            "grid_template_rows": null,
            "height": null,
            "justify_content": null,
            "justify_items": null,
            "left": null,
            "margin": null,
            "max_height": null,
            "max_width": null,
            "min_height": null,
            "min_width": null,
            "object_fit": null,
            "object_position": null,
            "order": null,
            "overflow": null,
            "overflow_x": null,
            "overflow_y": null,
            "padding": null,
            "right": null,
            "top": null,
            "visibility": null,
            "width": null
          }
        },
        "c6352d573c5f42e59d7832ab22667edf": {
          "model_module": "@jupyter-widgets/controls",
          "model_name": "DescriptionStyleModel",
          "model_module_version": "1.5.0",
          "state": {
            "_model_module": "@jupyter-widgets/controls",
            "_model_module_version": "1.5.0",
            "_model_name": "DescriptionStyleModel",
            "_view_count": null,
            "_view_module": "@jupyter-widgets/base",
            "_view_module_version": "1.2.0",
            "_view_name": "StyleView",
            "description_width": ""
          }
        },
        "b6fa7300c62e4215bf254265e663adac": {
          "model_module": "@jupyter-widgets/base",
          "model_name": "LayoutModel",
          "model_module_version": "1.2.0",
          "state": {
            "_model_module": "@jupyter-widgets/base",
            "_model_module_version": "1.2.0",
            "_model_name": "LayoutModel",
            "_view_count": null,
            "_view_module": "@jupyter-widgets/base",
            "_view_module_version": "1.2.0",
            "_view_name": "LayoutView",
            "align_content": null,
            "align_items": null,
            "align_self": null,
            "border": null,
            "bottom": null,
            "display": null,
            "flex": null,
            "flex_flow": null,
            "grid_area": null,
            "grid_auto_columns": null,
            "grid_auto_flow": null,
            "grid_auto_rows": null,
            "grid_column": null,
            "grid_gap": null,
            "grid_row": null,
            "grid_template_areas": null,
            "grid_template_columns": null,
            "grid_template_rows": null,
            "height": null,
            "justify_content": null,
            "justify_items": null,
            "left": null,
            "margin": null,
            "max_height": null,
            "max_width": null,
            "min_height": null,
            "min_width": null,
            "object_fit": null,
            "object_position": null,
            "order": null,
            "overflow": null,
            "overflow_x": null,
            "overflow_y": null,
            "padding": null,
            "right": null,
            "top": null,
            "visibility": null,
            "width": null
          }
        },
        "8ecf36648ed74354b424f2f8b57a914b": {
          "model_module": "@jupyter-widgets/controls",
          "model_name": "ProgressStyleModel",
          "model_module_version": "1.5.0",
          "state": {
            "_model_module": "@jupyter-widgets/controls",
            "_model_module_version": "1.5.0",
            "_model_name": "ProgressStyleModel",
            "_view_count": null,
            "_view_module": "@jupyter-widgets/base",
            "_view_module_version": "1.2.0",
            "_view_name": "StyleView",
            "bar_color": null,
            "description_width": ""
          }
        },
        "0f67095d8dee42f8bf20358086a6d397": {
          "model_module": "@jupyter-widgets/base",
          "model_name": "LayoutModel",
          "model_module_version": "1.2.0",
          "state": {
            "_model_module": "@jupyter-widgets/base",
            "_model_module_version": "1.2.0",
            "_model_name": "LayoutModel",
            "_view_count": null,
            "_view_module": "@jupyter-widgets/base",
            "_view_module_version": "1.2.0",
            "_view_name": "LayoutView",
            "align_content": null,
            "align_items": null,
            "align_self": null,
            "border": null,
            "bottom": null,
            "display": null,
            "flex": null,
            "flex_flow": null,
            "grid_area": null,
            "grid_auto_columns": null,
            "grid_auto_flow": null,
            "grid_auto_rows": null,
            "grid_column": null,
            "grid_gap": null,
            "grid_row": null,
            "grid_template_areas": null,
            "grid_template_columns": null,
            "grid_template_rows": null,
            "height": null,
            "justify_content": null,
            "justify_items": null,
            "left": null,
            "margin": null,
            "max_height": null,
            "max_width": null,
            "min_height": null,
            "min_width": null,
            "object_fit": null,
            "object_position": null,
            "order": null,
            "overflow": null,
            "overflow_x": null,
            "overflow_y": null,
            "padding": null,
            "right": null,
            "top": null,
            "visibility": null,
            "width": null
          }
        },
        "5025b43edb7b4f90a8027517ec5eec2f": {
          "model_module": "@jupyter-widgets/controls",
          "model_name": "DescriptionStyleModel",
          "model_module_version": "1.5.0",
          "state": {
            "_model_module": "@jupyter-widgets/controls",
            "_model_module_version": "1.5.0",
            "_model_name": "DescriptionStyleModel",
            "_view_count": null,
            "_view_module": "@jupyter-widgets/base",
            "_view_module_version": "1.2.0",
            "_view_name": "StyleView",
            "description_width": ""
          }
        },
        "d7a49948b66d4ca787d019133d2db4dd": {
          "model_module": "@jupyter-widgets/controls",
          "model_name": "HBoxModel",
          "model_module_version": "1.5.0",
          "state": {
            "_dom_classes": [],
            "_model_module": "@jupyter-widgets/controls",
            "_model_module_version": "1.5.0",
            "_model_name": "HBoxModel",
            "_view_count": null,
            "_view_module": "@jupyter-widgets/controls",
            "_view_module_version": "1.5.0",
            "_view_name": "HBoxView",
            "box_style": "",
            "children": [
              "IPY_MODEL_880e8a7f04b1402580a3c789395ef29f",
              "IPY_MODEL_a952f13a18a54538a79a2da67018dd18",
              "IPY_MODEL_ac46c0d743ee4aecb831fc6e7658ed1b"
            ],
            "layout": "IPY_MODEL_e6dc73da197e4d08a4111a35bca10ddf"
          }
        },
        "880e8a7f04b1402580a3c789395ef29f": {
          "model_module": "@jupyter-widgets/controls",
          "model_name": "HTMLModel",
          "model_module_version": "1.5.0",
          "state": {
            "_dom_classes": [],
            "_model_module": "@jupyter-widgets/controls",
            "_model_module_version": "1.5.0",
            "_model_name": "HTMLModel",
            "_view_count": null,
            "_view_module": "@jupyter-widgets/controls",
            "_view_module_version": "1.5.0",
            "_view_name": "HTMLView",
            "description": "",
            "description_tooltip": null,
            "layout": "IPY_MODEL_4838c1fcac834727b8ead5645c498a68",
            "placeholder": "​",
            "style": "IPY_MODEL_b28fa4b9c5e14d20a698ff8d5ecab24c",
            "value": "Downloading (…)olve/main/merges.txt: 100%"
          }
        },
        "a952f13a18a54538a79a2da67018dd18": {
          "model_module": "@jupyter-widgets/controls",
          "model_name": "FloatProgressModel",
          "model_module_version": "1.5.0",
          "state": {
            "_dom_classes": [],
            "_model_module": "@jupyter-widgets/controls",
            "_model_module_version": "1.5.0",
            "_model_name": "FloatProgressModel",
            "_view_count": null,
            "_view_module": "@jupyter-widgets/controls",
            "_view_module_version": "1.5.0",
            "_view_name": "ProgressView",
            "bar_style": "success",
            "description": "",
            "description_tooltip": null,
            "layout": "IPY_MODEL_7816531e12a242289e6bedc5e4cc7a4c",
            "max": 456318,
            "min": 0,
            "orientation": "horizontal",
            "style": "IPY_MODEL_2ac079191898420aae25e5fc0e826270",
            "value": 456318
          }
        },
        "ac46c0d743ee4aecb831fc6e7658ed1b": {
          "model_module": "@jupyter-widgets/controls",
          "model_name": "HTMLModel",
          "model_module_version": "1.5.0",
          "state": {
            "_dom_classes": [],
            "_model_module": "@jupyter-widgets/controls",
            "_model_module_version": "1.5.0",
            "_model_name": "HTMLModel",
            "_view_count": null,
            "_view_module": "@jupyter-widgets/controls",
            "_view_module_version": "1.5.0",
            "_view_name": "HTMLView",
            "description": "",
            "description_tooltip": null,
            "layout": "IPY_MODEL_b89441c09b8745e8828f4bc1a4681f27",
            "placeholder": "​",
            "style": "IPY_MODEL_617a9541b51b422e937fe0de85d4f03a",
            "value": " 456k/456k [00:00&lt;00:00, 25.5MB/s]"
          }
        },
        "e6dc73da197e4d08a4111a35bca10ddf": {
          "model_module": "@jupyter-widgets/base",
          "model_name": "LayoutModel",
          "model_module_version": "1.2.0",
          "state": {
            "_model_module": "@jupyter-widgets/base",
            "_model_module_version": "1.2.0",
            "_model_name": "LayoutModel",
            "_view_count": null,
            "_view_module": "@jupyter-widgets/base",
            "_view_module_version": "1.2.0",
            "_view_name": "LayoutView",
            "align_content": null,
            "align_items": null,
            "align_self": null,
            "border": null,
            "bottom": null,
            "display": null,
            "flex": null,
            "flex_flow": null,
            "grid_area": null,
            "grid_auto_columns": null,
            "grid_auto_flow": null,
            "grid_auto_rows": null,
            "grid_column": null,
            "grid_gap": null,
            "grid_row": null,
            "grid_template_areas": null,
            "grid_template_columns": null,
            "grid_template_rows": null,
            "height": null,
            "justify_content": null,
            "justify_items": null,
            "left": null,
            "margin": null,
            "max_height": null,
            "max_width": null,
            "min_height": null,
            "min_width": null,
            "object_fit": null,
            "object_position": null,
            "order": null,
            "overflow": null,
            "overflow_x": null,
            "overflow_y": null,
            "padding": null,
            "right": null,
            "top": null,
            "visibility": null,
            "width": null
          }
        },
        "4838c1fcac834727b8ead5645c498a68": {
          "model_module": "@jupyter-widgets/base",
          "model_name": "LayoutModel",
          "model_module_version": "1.2.0",
          "state": {
            "_model_module": "@jupyter-widgets/base",
            "_model_module_version": "1.2.0",
            "_model_name": "LayoutModel",
            "_view_count": null,
            "_view_module": "@jupyter-widgets/base",
            "_view_module_version": "1.2.0",
            "_view_name": "LayoutView",
            "align_content": null,
            "align_items": null,
            "align_self": null,
            "border": null,
            "bottom": null,
            "display": null,
            "flex": null,
            "flex_flow": null,
            "grid_area": null,
            "grid_auto_columns": null,
            "grid_auto_flow": null,
            "grid_auto_rows": null,
            "grid_column": null,
            "grid_gap": null,
            "grid_row": null,
            "grid_template_areas": null,
            "grid_template_columns": null,
            "grid_template_rows": null,
            "height": null,
            "justify_content": null,
            "justify_items": null,
            "left": null,
            "margin": null,
            "max_height": null,
            "max_width": null,
            "min_height": null,
            "min_width": null,
            "object_fit": null,
            "object_position": null,
            "order": null,
            "overflow": null,
            "overflow_x": null,
            "overflow_y": null,
            "padding": null,
            "right": null,
            "top": null,
            "visibility": null,
            "width": null
          }
        },
        "b28fa4b9c5e14d20a698ff8d5ecab24c": {
          "model_module": "@jupyter-widgets/controls",
          "model_name": "DescriptionStyleModel",
          "model_module_version": "1.5.0",
          "state": {
            "_model_module": "@jupyter-widgets/controls",
            "_model_module_version": "1.5.0",
            "_model_name": "DescriptionStyleModel",
            "_view_count": null,
            "_view_module": "@jupyter-widgets/base",
            "_view_module_version": "1.2.0",
            "_view_name": "StyleView",
            "description_width": ""
          }
        },
        "7816531e12a242289e6bedc5e4cc7a4c": {
          "model_module": "@jupyter-widgets/base",
          "model_name": "LayoutModel",
          "model_module_version": "1.2.0",
          "state": {
            "_model_module": "@jupyter-widgets/base",
            "_model_module_version": "1.2.0",
            "_model_name": "LayoutModel",
            "_view_count": null,
            "_view_module": "@jupyter-widgets/base",
            "_view_module_version": "1.2.0",
            "_view_name": "LayoutView",
            "align_content": null,
            "align_items": null,
            "align_self": null,
            "border": null,
            "bottom": null,
            "display": null,
            "flex": null,
            "flex_flow": null,
            "grid_area": null,
            "grid_auto_columns": null,
            "grid_auto_flow": null,
            "grid_auto_rows": null,
            "grid_column": null,
            "grid_gap": null,
            "grid_row": null,
            "grid_template_areas": null,
            "grid_template_columns": null,
            "grid_template_rows": null,
            "height": null,
            "justify_content": null,
            "justify_items": null,
            "left": null,
            "margin": null,
            "max_height": null,
            "max_width": null,
            "min_height": null,
            "min_width": null,
            "object_fit": null,
            "object_position": null,
            "order": null,
            "overflow": null,
            "overflow_x": null,
            "overflow_y": null,
            "padding": null,
            "right": null,
            "top": null,
            "visibility": null,
            "width": null
          }
        },
        "2ac079191898420aae25e5fc0e826270": {
          "model_module": "@jupyter-widgets/controls",
          "model_name": "ProgressStyleModel",
          "model_module_version": "1.5.0",
          "state": {
            "_model_module": "@jupyter-widgets/controls",
            "_model_module_version": "1.5.0",
            "_model_name": "ProgressStyleModel",
            "_view_count": null,
            "_view_module": "@jupyter-widgets/base",
            "_view_module_version": "1.2.0",
            "_view_name": "StyleView",
            "bar_color": null,
            "description_width": ""
          }
        },
        "b89441c09b8745e8828f4bc1a4681f27": {
          "model_module": "@jupyter-widgets/base",
          "model_name": "LayoutModel",
          "model_module_version": "1.2.0",
          "state": {
            "_model_module": "@jupyter-widgets/base",
            "_model_module_version": "1.2.0",
            "_model_name": "LayoutModel",
            "_view_count": null,
            "_view_module": "@jupyter-widgets/base",
            "_view_module_version": "1.2.0",
            "_view_name": "LayoutView",
            "align_content": null,
            "align_items": null,
            "align_self": null,
            "border": null,
            "bottom": null,
            "display": null,
            "flex": null,
            "flex_flow": null,
            "grid_area": null,
            "grid_auto_columns": null,
            "grid_auto_flow": null,
            "grid_auto_rows": null,
            "grid_column": null,
            "grid_gap": null,
            "grid_row": null,
            "grid_template_areas": null,
            "grid_template_columns": null,
            "grid_template_rows": null,
            "height": null,
            "justify_content": null,
            "justify_items": null,
            "left": null,
            "margin": null,
            "max_height": null,
            "max_width": null,
            "min_height": null,
            "min_width": null,
            "object_fit": null,
            "object_position": null,
            "order": null,
            "overflow": null,
            "overflow_x": null,
            "overflow_y": null,
            "padding": null,
            "right": null,
            "top": null,
            "visibility": null,
            "width": null
          }
        },
        "617a9541b51b422e937fe0de85d4f03a": {
          "model_module": "@jupyter-widgets/controls",
          "model_name": "DescriptionStyleModel",
          "model_module_version": "1.5.0",
          "state": {
            "_model_module": "@jupyter-widgets/controls",
            "_model_module_version": "1.5.0",
            "_model_name": "DescriptionStyleModel",
            "_view_count": null,
            "_view_module": "@jupyter-widgets/base",
            "_view_module_version": "1.2.0",
            "_view_name": "StyleView",
            "description_width": ""
          }
        },
        "facdf8555fa8408fb17cafb1cb04d65b": {
          "model_module": "@jupyter-widgets/controls",
          "model_name": "HBoxModel",
          "model_module_version": "1.5.0",
          "state": {
            "_dom_classes": [],
            "_model_module": "@jupyter-widgets/controls",
            "_model_module_version": "1.5.0",
            "_model_name": "HBoxModel",
            "_view_count": null,
            "_view_module": "@jupyter-widgets/controls",
            "_view_module_version": "1.5.0",
            "_view_name": "HBoxView",
            "box_style": "",
            "children": [
              "IPY_MODEL_e3053090aa504d3d92e8c393c1cfa966",
              "IPY_MODEL_2cfe8c959fab4fda8286abb07ba26555",
              "IPY_MODEL_5a67ff05eac74a5c9f3bb551e85b04b5"
            ],
            "layout": "IPY_MODEL_e83cb6589ee64c95abc9f29713f83890"
          }
        },
        "e3053090aa504d3d92e8c393c1cfa966": {
          "model_module": "@jupyter-widgets/controls",
          "model_name": "HTMLModel",
          "model_module_version": "1.5.0",
          "state": {
            "_dom_classes": [],
            "_model_module": "@jupyter-widgets/controls",
            "_model_module_version": "1.5.0",
            "_model_name": "HTMLModel",
            "_view_count": null,
            "_view_module": "@jupyter-widgets/controls",
            "_view_module_version": "1.5.0",
            "_view_name": "HTMLView",
            "description": "",
            "description_tooltip": null,
            "layout": "IPY_MODEL_1c82efcce1264bde989ddbc42f0a65d2",
            "placeholder": "​",
            "style": "IPY_MODEL_3421f94e3c094517849c0171bb5b3828",
            "value": "Downloading (…)lve/main/config.json: 100%"
          }
        },
        "2cfe8c959fab4fda8286abb07ba26555": {
          "model_module": "@jupyter-widgets/controls",
          "model_name": "FloatProgressModel",
          "model_module_version": "1.5.0",
          "state": {
            "_dom_classes": [],
            "_model_module": "@jupyter-widgets/controls",
            "_model_module_version": "1.5.0",
            "_model_name": "FloatProgressModel",
            "_view_count": null,
            "_view_module": "@jupyter-widgets/controls",
            "_view_module_version": "1.5.0",
            "_view_name": "ProgressView",
            "bar_style": "success",
            "description": "",
            "description_tooltip": null,
            "layout": "IPY_MODEL_ebcce3161a2b46e5919884745411c67d",
            "max": 665,
            "min": 0,
            "orientation": "horizontal",
            "style": "IPY_MODEL_8b1963ca8cda4c269663d5b96d5d1be3",
            "value": 665
          }
        },
        "5a67ff05eac74a5c9f3bb551e85b04b5": {
          "model_module": "@jupyter-widgets/controls",
          "model_name": "HTMLModel",
          "model_module_version": "1.5.0",
          "state": {
            "_dom_classes": [],
            "_model_module": "@jupyter-widgets/controls",
            "_model_module_version": "1.5.0",
            "_model_name": "HTMLModel",
            "_view_count": null,
            "_view_module": "@jupyter-widgets/controls",
            "_view_module_version": "1.5.0",
            "_view_name": "HTMLView",
            "description": "",
            "description_tooltip": null,
            "layout": "IPY_MODEL_367beea267ba4159b995c70940c176b2",
            "placeholder": "​",
            "style": "IPY_MODEL_7bed540f5aa84c77964fcbd8b2d6e2a0",
            "value": " 665/665 [00:00&lt;00:00, 49.7kB/s]"
          }
        },
        "e83cb6589ee64c95abc9f29713f83890": {
          "model_module": "@jupyter-widgets/base",
          "model_name": "LayoutModel",
          "model_module_version": "1.2.0",
          "state": {
            "_model_module": "@jupyter-widgets/base",
            "_model_module_version": "1.2.0",
            "_model_name": "LayoutModel",
            "_view_count": null,
            "_view_module": "@jupyter-widgets/base",
            "_view_module_version": "1.2.0",
            "_view_name": "LayoutView",
            "align_content": null,
            "align_items": null,
            "align_self": null,
            "border": null,
            "bottom": null,
            "display": null,
            "flex": null,
            "flex_flow": null,
            "grid_area": null,
            "grid_auto_columns": null,
            "grid_auto_flow": null,
            "grid_auto_rows": null,
            "grid_column": null,
            "grid_gap": null,
            "grid_row": null,
            "grid_template_areas": null,
            "grid_template_columns": null,
            "grid_template_rows": null,
            "height": null,
            "justify_content": null,
            "justify_items": null,
            "left": null,
            "margin": null,
            "max_height": null,
            "max_width": null,
            "min_height": null,
            "min_width": null,
            "object_fit": null,
            "object_position": null,
            "order": null,
            "overflow": null,
            "overflow_x": null,
            "overflow_y": null,
            "padding": null,
            "right": null,
            "top": null,
            "visibility": null,
            "width": null
          }
        },
        "1c82efcce1264bde989ddbc42f0a65d2": {
          "model_module": "@jupyter-widgets/base",
          "model_name": "LayoutModel",
          "model_module_version": "1.2.0",
          "state": {
            "_model_module": "@jupyter-widgets/base",
            "_model_module_version": "1.2.0",
            "_model_name": "LayoutModel",
            "_view_count": null,
            "_view_module": "@jupyter-widgets/base",
            "_view_module_version": "1.2.0",
            "_view_name": "LayoutView",
            "align_content": null,
            "align_items": null,
            "align_self": null,
            "border": null,
            "bottom": null,
            "display": null,
            "flex": null,
            "flex_flow": null,
            "grid_area": null,
            "grid_auto_columns": null,
            "grid_auto_flow": null,
            "grid_auto_rows": null,
            "grid_column": null,
            "grid_gap": null,
            "grid_row": null,
            "grid_template_areas": null,
            "grid_template_columns": null,
            "grid_template_rows": null,
            "height": null,
            "justify_content": null,
            "justify_items": null,
            "left": null,
            "margin": null,
            "max_height": null,
            "max_width": null,
            "min_height": null,
            "min_width": null,
            "object_fit": null,
            "object_position": null,
            "order": null,
            "overflow": null,
            "overflow_x": null,
            "overflow_y": null,
            "padding": null,
            "right": null,
            "top": null,
            "visibility": null,
            "width": null
          }
        },
        "3421f94e3c094517849c0171bb5b3828": {
          "model_module": "@jupyter-widgets/controls",
          "model_name": "DescriptionStyleModel",
          "model_module_version": "1.5.0",
          "state": {
            "_model_module": "@jupyter-widgets/controls",
            "_model_module_version": "1.5.0",
            "_model_name": "DescriptionStyleModel",
            "_view_count": null,
            "_view_module": "@jupyter-widgets/base",
            "_view_module_version": "1.2.0",
            "_view_name": "StyleView",
            "description_width": ""
          }
        },
        "ebcce3161a2b46e5919884745411c67d": {
          "model_module": "@jupyter-widgets/base",
          "model_name": "LayoutModel",
          "model_module_version": "1.2.0",
          "state": {
            "_model_module": "@jupyter-widgets/base",
            "_model_module_version": "1.2.0",
            "_model_name": "LayoutModel",
            "_view_count": null,
            "_view_module": "@jupyter-widgets/base",
            "_view_module_version": "1.2.0",
            "_view_name": "LayoutView",
            "align_content": null,
            "align_items": null,
            "align_self": null,
            "border": null,
            "bottom": null,
            "display": null,
            "flex": null,
            "flex_flow": null,
            "grid_area": null,
            "grid_auto_columns": null,
            "grid_auto_flow": null,
            "grid_auto_rows": null,
            "grid_column": null,
            "grid_gap": null,
            "grid_row": null,
            "grid_template_areas": null,
            "grid_template_columns": null,
            "grid_template_rows": null,
            "height": null,
            "justify_content": null,
            "justify_items": null,
            "left": null,
            "margin": null,
            "max_height": null,
            "max_width": null,
            "min_height": null,
            "min_width": null,
            "object_fit": null,
            "object_position": null,
            "order": null,
            "overflow": null,
            "overflow_x": null,
            "overflow_y": null,
            "padding": null,
            "right": null,
            "top": null,
            "visibility": null,
            "width": null
          }
        },
        "8b1963ca8cda4c269663d5b96d5d1be3": {
          "model_module": "@jupyter-widgets/controls",
          "model_name": "ProgressStyleModel",
          "model_module_version": "1.5.0",
          "state": {
            "_model_module": "@jupyter-widgets/controls",
            "_model_module_version": "1.5.0",
            "_model_name": "ProgressStyleModel",
            "_view_count": null,
            "_view_module": "@jupyter-widgets/base",
            "_view_module_version": "1.2.0",
            "_view_name": "StyleView",
            "bar_color": null,
            "description_width": ""
          }
        },
        "367beea267ba4159b995c70940c176b2": {
          "model_module": "@jupyter-widgets/base",
          "model_name": "LayoutModel",
          "model_module_version": "1.2.0",
          "state": {
            "_model_module": "@jupyter-widgets/base",
            "_model_module_version": "1.2.0",
            "_model_name": "LayoutModel",
            "_view_count": null,
            "_view_module": "@jupyter-widgets/base",
            "_view_module_version": "1.2.0",
            "_view_name": "LayoutView",
            "align_content": null,
            "align_items": null,
            "align_self": null,
            "border": null,
            "bottom": null,
            "display": null,
            "flex": null,
            "flex_flow": null,
            "grid_area": null,
            "grid_auto_columns": null,
            "grid_auto_flow": null,
            "grid_auto_rows": null,
            "grid_column": null,
            "grid_gap": null,
            "grid_row": null,
            "grid_template_areas": null,
            "grid_template_columns": null,
            "grid_template_rows": null,
            "height": null,
            "justify_content": null,
            "justify_items": null,
            "left": null,
            "margin": null,
            "max_height": null,
            "max_width": null,
            "min_height": null,
            "min_width": null,
            "object_fit": null,
            "object_position": null,
            "order": null,
            "overflow": null,
            "overflow_x": null,
            "overflow_y": null,
            "padding": null,
            "right": null,
            "top": null,
            "visibility": null,
            "width": null
          }
        },
        "7bed540f5aa84c77964fcbd8b2d6e2a0": {
          "model_module": "@jupyter-widgets/controls",
          "model_name": "DescriptionStyleModel",
          "model_module_version": "1.5.0",
          "state": {
            "_model_module": "@jupyter-widgets/controls",
            "_model_module_version": "1.5.0",
            "_model_name": "DescriptionStyleModel",
            "_view_count": null,
            "_view_module": "@jupyter-widgets/base",
            "_view_module_version": "1.2.0",
            "_view_name": "StyleView",
            "description_width": ""
          }
        }
      }
    }
  },
  "cells": [
    {
      "cell_type": "code",
      "source": [
        "!pip install transformers==4.28.0\n"
      ],
      "metadata": {
        "colab": {
          "base_uri": "https://localhost:8080/"
        },
        "id": "c8X6GTA5ykfF",
        "outputId": "6b41ca20-23c1-4383-97e3-947187b33ed3"
      },
      "execution_count": null,
      "outputs": [
        {
          "output_type": "stream",
          "name": "stdout",
          "text": [
            "Looking in indexes: https://pypi.org/simple, https://us-python.pkg.dev/colab-wheels/public/simple/\n",
            "Collecting transformers==4.28.0\n",
            "  Downloading transformers-4.28.0-py3-none-any.whl (7.0 MB)\n",
            "\u001b[2K     \u001b[90m━━━━━━━━━━━━━━━━━━━━━━━━━━━━━━━━━━━━━━━━\u001b[0m \u001b[32m7.0/7.0 MB\u001b[0m \u001b[31m50.3 MB/s\u001b[0m eta \u001b[36m0:00:00\u001b[0m\n",
            "\u001b[?25hRequirement already satisfied: filelock in /usr/local/lib/python3.10/dist-packages (from transformers==4.28.0) (3.12.0)\n",
            "Collecting huggingface-hub<1.0,>=0.11.0 (from transformers==4.28.0)\n",
            "  Downloading huggingface_hub-0.14.1-py3-none-any.whl (224 kB)\n",
            "\u001b[2K     \u001b[90m━━━━━━━━━━━━━━━━━━━━━━━━━━━━━━━━━━━━━━\u001b[0m \u001b[32m224.5/224.5 kB\u001b[0m \u001b[31m19.5 MB/s\u001b[0m eta \u001b[36m0:00:00\u001b[0m\n",
            "\u001b[?25hRequirement already satisfied: numpy>=1.17 in /usr/local/lib/python3.10/dist-packages (from transformers==4.28.0) (1.22.4)\n",
            "Requirement already satisfied: packaging>=20.0 in /usr/local/lib/python3.10/dist-packages (from transformers==4.28.0) (23.1)\n",
            "Requirement already satisfied: pyyaml>=5.1 in /usr/local/lib/python3.10/dist-packages (from transformers==4.28.0) (6.0)\n",
            "Requirement already satisfied: regex!=2019.12.17 in /usr/local/lib/python3.10/dist-packages (from transformers==4.28.0) (2022.10.31)\n",
            "Requirement already satisfied: requests in /usr/local/lib/python3.10/dist-packages (from transformers==4.28.0) (2.27.1)\n",
            "Collecting tokenizers!=0.11.3,<0.14,>=0.11.1 (from transformers==4.28.0)\n",
            "  Downloading tokenizers-0.13.3-cp310-cp310-manylinux_2_17_x86_64.manylinux2014_x86_64.whl (7.8 MB)\n",
            "\u001b[2K     \u001b[90m━━━━━━━━━━━━━━━━━━━━━━━━━━━━━━━━━━━━━━━━\u001b[0m \u001b[32m7.8/7.8 MB\u001b[0m \u001b[31m97.5 MB/s\u001b[0m eta \u001b[36m0:00:00\u001b[0m\n",
            "\u001b[?25hRequirement already satisfied: tqdm>=4.27 in /usr/local/lib/python3.10/dist-packages (from transformers==4.28.0) (4.65.0)\n",
            "Requirement already satisfied: fsspec in /usr/local/lib/python3.10/dist-packages (from huggingface-hub<1.0,>=0.11.0->transformers==4.28.0) (2023.4.0)\n",
            "Requirement already satisfied: typing-extensions>=3.7.4.3 in /usr/local/lib/python3.10/dist-packages (from huggingface-hub<1.0,>=0.11.0->transformers==4.28.0) (4.5.0)\n",
            "Requirement already satisfied: urllib3<1.27,>=1.21.1 in /usr/local/lib/python3.10/dist-packages (from requests->transformers==4.28.0) (1.26.15)\n",
            "Requirement already satisfied: certifi>=2017.4.17 in /usr/local/lib/python3.10/dist-packages (from requests->transformers==4.28.0) (2022.12.7)\n",
            "Requirement already satisfied: charset-normalizer~=2.0.0 in /usr/local/lib/python3.10/dist-packages (from requests->transformers==4.28.0) (2.0.12)\n",
            "Requirement already satisfied: idna<4,>=2.5 in /usr/local/lib/python3.10/dist-packages (from requests->transformers==4.28.0) (3.4)\n",
            "Installing collected packages: tokenizers, huggingface-hub, transformers\n",
            "Successfully installed huggingface-hub-0.14.1 tokenizers-0.13.3 transformers-4.28.0\n"
          ]
        }
      ]
    },
    {
      "cell_type": "code",
      "source": [
        "from sklearn.metrics.pairwise import cosine_similarity\n",
        "import numpy as np\n",
        "import tensorflow_hub as hub\n",
        "import tensorflow as tf\n",
        "import pandas as pd\n",
        "from transformers import GPT2LMHeadModel, GPT2Tokenizer, pipeline"
      ],
      "metadata": {
        "id": "9zl453_hp4AV"
      },
      "execution_count": null,
      "outputs": []
    },
    {
      "cell_type": "code",
      "source": [
        "from google.colab import drive\n",
        "drive.mount('/content/drive')"
      ],
      "metadata": {
        "colab": {
          "base_uri": "https://localhost:8080/"
        },
        "id": "A-A96ipZl2_b",
        "outputId": "63270b69-6a95-4acf-b5aa-f30ba0ec53d2"
      },
      "execution_count": null,
      "outputs": [
        {
          "output_type": "stream",
          "name": "stdout",
          "text": [
            "Drive already mounted at /content/drive; to attempt to forcibly remount, call drive.mount(\"/content/drive\", force_remount=True).\n"
          ]
        }
      ]
    },
    {
      "cell_type": "markdown",
      "source": [
        "### Load models"
      ],
      "metadata": {
        "id": "RK6aXT6LrxOb"
      }
    },
    {
      "cell_type": "markdown",
      "source": [
        "#### Load aragpt model"
      ],
      "metadata": {
        "id": "Kgjqu6cXr1sg"
      }
    },
    {
      "cell_type": "code",
      "source": [
        "!unzip -q \"/content/drive/MyDrive/aragpt_final_one.zip\" -d \"/content/\""
      ],
      "metadata": {
        "id": "42gTvQmQrzaw",
        "colab": {
          "base_uri": "https://localhost:8080/"
        },
        "outputId": "2a38b19d-515f-4ac4-ba24-432318ba9e6f"
      },
      "execution_count": null,
      "outputs": [
        {
          "output_type": "stream",
          "name": "stdout",
          "text": [
            "mkdir: cannot create directory ‘’: No such file or directory\n"
          ]
        }
      ]
    },
    {
      "cell_type": "code",
      "source": [
        "aragpt_folder_path = '/content/aragpt_model'\n",
        "!mkdir -p \"$aragpt_folder_path\""
      ],
      "metadata": {
        "id": "jD-GMd5Vm3lb"
      },
      "execution_count": null,
      "outputs": []
    },
    {
      "cell_type": "code",
      "source": [
        "aragpt_tokenizer = GPT2Tokenizer.from_pretrained(\n",
        "    'aubmindlab/aragpt2-base'\n",
        "    )\n",
        "aragpt_model = GPT2LMHeadModel.from_pretrained(\n",
        "    aragpt_folder_path,\n",
        "    pad_token_id = aragpt_tokenizer.eos_token_id\n",
        "    )"
      ],
      "metadata": {
        "id": "NN1oMEoCsci4"
      },
      "execution_count": null,
      "outputs": []
    },
    {
      "cell_type": "code",
      "source": [
        "aragpt_generator_ = pipeline(\n",
        "    'text-generation',\n",
        "    model = aragpt_folder_path,\n",
        "    tokenizer='aubmindlab/aragpt2-base'\n",
        "    )"
      ],
      "metadata": {
        "id": "322ZjRbotXTl",
        "colab": {
          "base_uri": "https://localhost:8080/",
          "height": 77,
          "referenced_widgets": [
            "060d1382b92b447a9b86bdfa92cbfdb5",
            "c754a549685b436c84cde0675e37f4f3",
            "d40997fc82d54a8eae9e026eff1c8519",
            "758644349e61430cb215753b5f3683e9",
            "e835f28ca0494ef487c45ad31f9f0bb5",
            "4af6cb0233b948c99a197ce862f6713e",
            "054529940031470f8c7b35444188f563",
            "ef6e76d4ec3542f88c58f708360afd38",
            "4c3eb50d10e74112b5f2b6f7a4c45783",
            "520358599826491ba09de19e6c38c8db",
            "a40294d505b640df999ebb0243292ce1"
          ]
        },
        "outputId": "1ad909fc-7d9a-49f3-cd4c-ca5975b80e74"
      },
      "execution_count": null,
      "outputs": [
        {
          "output_type": "display_data",
          "data": {
            "text/plain": [
              "Downloading (…)/main/tokenizer.json:   0%|          | 0.00/4.52M [00:00<?, ?B/s]"
            ],
            "application/vnd.jupyter.widget-view+json": {
              "version_major": 2,
              "version_minor": 0,
              "model_id": "060d1382b92b447a9b86bdfa92cbfdb5"
            }
          },
          "metadata": {}
        }
      ]
    },
    {
      "cell_type": "markdown",
      "source": [
        "### Load the gpt model"
      ],
      "metadata": {
        "id": "GCEb4YYqr5vP"
      }
    },
    {
      "cell_type": "code",
      "source": [
        "!unzip -q \"/content/drive/MyDrive/gpt_for_poems (2).zip\" -d \"/content/\""
      ],
      "metadata": {
        "id": "VhU2CxAmnpSd"
      },
      "execution_count": null,
      "outputs": []
    },
    {
      "cell_type": "code",
      "source": [
        "folder_path = '/content/gpt_model'\n",
        "!mkdir -p \"$folder_path\""
      ],
      "metadata": {
        "id": "71K762sjrzUf"
      },
      "execution_count": null,
      "outputs": []
    },
    {
      "cell_type": "code",
      "source": [
        "gpt_tokenizer = GPT2Tokenizer.from_pretrained('gpt2')\n",
        "gpt_model = GPT2LMHeadModel.from_pretrained(\n",
        "    folder_path,\n",
        "    pad_token_id = gpt_tokenizer.eos_token_id\n",
        "    )"
      ],
      "metadata": {
        "id": "j4BDpS5uwDrt",
        "colab": {
          "base_uri": "https://localhost:8080/",
          "height": 197,
          "referenced_widgets": [
            "46fa5c2a5f904874a90b2ddee782249d",
            "23c487d136004b1e8b986315eb65b2b0",
            "8567f15ea4b94f60a01568791a1b9e35",
            "87268c3ee5b649118c23c5f1bc64aa14",
            "fe4359be84cd424b99c59cd4e52fa89d",
            "acb412cb257a4049a6dba41f940e9a6b",
            "c6352d573c5f42e59d7832ab22667edf",
            "b6fa7300c62e4215bf254265e663adac",
            "8ecf36648ed74354b424f2f8b57a914b",
            "0f67095d8dee42f8bf20358086a6d397",
            "5025b43edb7b4f90a8027517ec5eec2f",
            "d7a49948b66d4ca787d019133d2db4dd",
            "880e8a7f04b1402580a3c789395ef29f",
            "a952f13a18a54538a79a2da67018dd18",
            "ac46c0d743ee4aecb831fc6e7658ed1b",
            "e6dc73da197e4d08a4111a35bca10ddf",
            "4838c1fcac834727b8ead5645c498a68",
            "b28fa4b9c5e14d20a698ff8d5ecab24c",
            "7816531e12a242289e6bedc5e4cc7a4c",
            "2ac079191898420aae25e5fc0e826270",
            "b89441c09b8745e8828f4bc1a4681f27",
            "617a9541b51b422e937fe0de85d4f03a",
            "facdf8555fa8408fb17cafb1cb04d65b",
            "e3053090aa504d3d92e8c393c1cfa966",
            "2cfe8c959fab4fda8286abb07ba26555",
            "5a67ff05eac74a5c9f3bb551e85b04b5",
            "e83cb6589ee64c95abc9f29713f83890",
            "1c82efcce1264bde989ddbc42f0a65d2",
            "3421f94e3c094517849c0171bb5b3828",
            "ebcce3161a2b46e5919884745411c67d",
            "8b1963ca8cda4c269663d5b96d5d1be3",
            "367beea267ba4159b995c70940c176b2",
            "7bed540f5aa84c77964fcbd8b2d6e2a0"
          ]
        },
        "outputId": "cb057308-ea4c-47a9-a42f-d8d30d51e4ab"
      },
      "execution_count": null,
      "outputs": [
        {
          "output_type": "display_data",
          "data": {
            "text/plain": [
              "Downloading (…)olve/main/vocab.json:   0%|          | 0.00/1.04M [00:00<?, ?B/s]"
            ],
            "application/vnd.jupyter.widget-view+json": {
              "version_major": 2,
              "version_minor": 0,
              "model_id": "46fa5c2a5f904874a90b2ddee782249d"
            }
          },
          "metadata": {}
        },
        {
          "output_type": "display_data",
          "data": {
            "text/plain": [
              "Downloading (…)olve/main/merges.txt:   0%|          | 0.00/456k [00:00<?, ?B/s]"
            ],
            "application/vnd.jupyter.widget-view+json": {
              "version_major": 2,
              "version_minor": 0,
              "model_id": "d7a49948b66d4ca787d019133d2db4dd"
            }
          },
          "metadata": {}
        },
        {
          "output_type": "display_data",
          "data": {
            "text/plain": [
              "Downloading (…)lve/main/config.json:   0%|          | 0.00/665 [00:00<?, ?B/s]"
            ],
            "application/vnd.jupyter.widget-view+json": {
              "version_major": 2,
              "version_minor": 0,
              "model_id": "facdf8555fa8408fb17cafb1cb04d65b"
            }
          },
          "metadata": {}
        }
      ]
    },
    {
      "cell_type": "code",
      "source": [
        "english_generator = pipeline(\n",
        "    'text-generation',\n",
        "    model = folder_path,\n",
        "    tokenizer = gpt_tokenizer\n",
        "    )"
      ],
      "metadata": {
        "id": "foHZaSzOwTyx"
      },
      "execution_count": null,
      "outputs": []
    },
    {
      "cell_type": "markdown",
      "source": [
        "### Load the \"Uneversal Sentence Encoder (USE)\" model for embedding."
      ],
      "metadata": {
        "id": "2UAhdISzvZRD"
      }
    },
    {
      "cell_type": "code",
      "source": [
        "#Load the pre-trained model#\n",
        "embed = hub.load(\n",
        "    \"https://tfhub.dev/google/universal-sentence-encoder-large/5\"\n",
        "    )"
      ],
      "metadata": {
        "id": "9SPk7oNvvY7v"
      },
      "execution_count": null,
      "outputs": []
    },
    {
      "cell_type": "markdown",
      "source": [
        "# Define some usefull functions"
      ],
      "metadata": {
        "id": "C-wWhQwWw2eD"
      }
    },
    {
      "cell_type": "code",
      "execution_count": null,
      "metadata": {
        "id": "Ku8Y0u_ohY-c"
      },
      "outputs": [],
      "source": [
        "def calculate_similarity(embed1, embed2):\n",
        "    # Define two vectors\n",
        "    vector1 = np.array(embed1)\n",
        "    vector2 = np.array(embed2)\n",
        "\n",
        "    # Reshape the vectors to have a 2D shape\n",
        "    vector1 = vector1.reshape(1, -1)\n",
        "    vector2 = vector2.reshape(1, -1)\n",
        "\n",
        "    # Calculate the cosine similarity\n",
        "    similarity = cosine_similarity(vector1, vector2)\n",
        "\n",
        "    return similarity"
      ]
    },
    {
      "cell_type": "code",
      "source": [
        "def generate_embedding_for_prediction(seed_line, generator_):\n",
        "\n",
        "    #Generate text based on a line\n",
        "    predicted_line = generator_(seed_line, max_length = 20)[0]['generated_text']\n",
        "    predicted_embedding = embed( [predicted_line] )\n",
        "\n",
        "    return [predicted_embedding]"
      ],
      "metadata": {
        "id": "gJZ4goRTuC0y"
      },
      "execution_count": null,
      "outputs": []
    },
    {
      "cell_type": "code",
      "source": [
        "def generate_embedding_for_arabic_prediction(seed_line: str):\n",
        "    return generate_embedding_for_prediction(seed_line, aragpt_generator_)\n",
        "\n",
        "def generate_embedding_for_english_prediction(seed_line: str):\n",
        "    return generate_embedding_for_prediction(seed_line, english_generator)"
      ],
      "metadata": {
        "id": "fCVC1ExZw8ep"
      },
      "execution_count": null,
      "outputs": []
    },
    {
      "cell_type": "markdown",
      "source": [
        "# Evaluate the English one."
      ],
      "metadata": {
        "id": "lTK6aMTGtPMW"
      }
    },
    {
      "cell_type": "markdown",
      "source": [
        "### Get embedding for the verses in the test dataset because each one except the first one will be the ground truth prediction for the verses before it."
      ],
      "metadata": {
        "id": "eP8PhW6TrOWk"
      }
    },
    {
      "cell_type": "markdown",
      "source": [
        "### Read the test data"
      ],
      "metadata": {
        "id": "3v8ID_N6v4Pm"
      }
    },
    {
      "cell_type": "code",
      "source": [
        "# Read the text file\n",
        "with open('test_dataset_en.txt', 'r') as file:\n",
        "    lines = file.readlines()\n",
        "\n",
        "# Create a DataFrame with each row as a sample\n",
        "df = pd.DataFrame({'text': lines})\n",
        "\n",
        "\n",
        "df['text'] = df['text'].astype(str)\n",
        "\n",
        "# Remove empty rows\n",
        "df = df[df['text'] != '']\n",
        "\n",
        "df = df.head(150)"
      ],
      "metadata": {
        "id": "2Xxv9Q6dv7G9"
      },
      "execution_count": null,
      "outputs": []
    },
    {
      "cell_type": "markdown",
      "source": [
        "### Get embeddings for the ground truth"
      ],
      "metadata": {
        "id": "M8gO-q7Bvuwm"
      }
    },
    {
      "cell_type": "code",
      "source": [
        "english_embeddings = embed(\n",
        "    df['text'].to_list()\n",
        ")"
      ],
      "metadata": {
        "id": "W7nia0V8vzDF"
      },
      "execution_count": null,
      "outputs": []
    },
    {
      "cell_type": "code",
      "source": [
        "df['embeddings'] = [embedded_sentence for embedded_sentence in english_embeddings]"
      ],
      "metadata": {
        "id": "2Yu2irsd76Kf"
      },
      "execution_count": null,
      "outputs": []
    },
    {
      "cell_type": "code",
      "source": [
        "df"
      ],
      "metadata": {
        "id": "-UMffu5979nB",
        "colab": {
          "base_uri": "https://localhost:8080/",
          "height": 423
        },
        "outputId": "1b44e09a-ac96-42de-f09a-a4799b0ef670"
      },
      "execution_count": null,
      "outputs": [
        {
          "output_type": "execute_result",
          "data": {
            "text/plain": [
              "                                                  text  \\\n",
              "0             dark storms his genial powers controul\\n   \n",
              "1    and willingly i close the deep ensanguin'd scr...   \n",
              "2                 years follow years slow rolling on\\n   \n",
              "3                     no daring deeds of valour done\\n   \n",
              "4                till on this spot a monarch's fateh\\n   \n",
              "..                                                 ...   \n",
              "145  whatever crowns the hill or smiles along the v...   \n",
              "146        outcast of nature man the wretched thrall\\n   \n",
              "147          of bitterdropping sweat of sweltry pain\\n   \n",
              "148       of cares that eat away thy heart with gall\\n   \n",
              "149                and of the vices an inhuman train\\n   \n",
              "\n",
              "                                            embeddings  \n",
              "0    (tf.Tensor(0.030426197, shape=(), dtype=float3...  \n",
              "1    (tf.Tensor(-0.006629959, shape=(), dtype=float...  \n",
              "2    (tf.Tensor(0.054826934, shape=(), dtype=float3...  \n",
              "3    (tf.Tensor(-0.051109336, shape=(), dtype=float...  \n",
              "4    (tf.Tensor(0.017863087, shape=(), dtype=float3...  \n",
              "..                                                 ...  \n",
              "145  (tf.Tensor(0.045052286, shape=(), dtype=float3...  \n",
              "146  (tf.Tensor(0.058078557, shape=(), dtype=float3...  \n",
              "147  (tf.Tensor(-0.013565971, shape=(), dtype=float...  \n",
              "148  (tf.Tensor(-0.02529077, shape=(), dtype=float3...  \n",
              "149  (tf.Tensor(0.1027477, shape=(), dtype=float32)...  \n",
              "\n",
              "[150 rows x 2 columns]"
            ],
            "text/html": [
              "\n",
              "  <div id=\"df-41aca508-20d6-483a-a8a1-02a07c28b38c\">\n",
              "    <div class=\"colab-df-container\">\n",
              "      <div>\n",
              "<style scoped>\n",
              "    .dataframe tbody tr th:only-of-type {\n",
              "        vertical-align: middle;\n",
              "    }\n",
              "\n",
              "    .dataframe tbody tr th {\n",
              "        vertical-align: top;\n",
              "    }\n",
              "\n",
              "    .dataframe thead th {\n",
              "        text-align: right;\n",
              "    }\n",
              "</style>\n",
              "<table border=\"1\" class=\"dataframe\">\n",
              "  <thead>\n",
              "    <tr style=\"text-align: right;\">\n",
              "      <th></th>\n",
              "      <th>text</th>\n",
              "      <th>embeddings</th>\n",
              "    </tr>\n",
              "  </thead>\n",
              "  <tbody>\n",
              "    <tr>\n",
              "      <th>0</th>\n",
              "      <td>dark storms his genial powers controul\\n</td>\n",
              "      <td>(tf.Tensor(0.030426197, shape=(), dtype=float3...</td>\n",
              "    </tr>\n",
              "    <tr>\n",
              "      <th>1</th>\n",
              "      <td>and willingly i close the deep ensanguin'd scr...</td>\n",
              "      <td>(tf.Tensor(-0.006629959, shape=(), dtype=float...</td>\n",
              "    </tr>\n",
              "    <tr>\n",
              "      <th>2</th>\n",
              "      <td>years follow years slow rolling on\\n</td>\n",
              "      <td>(tf.Tensor(0.054826934, shape=(), dtype=float3...</td>\n",
              "    </tr>\n",
              "    <tr>\n",
              "      <th>3</th>\n",
              "      <td>no daring deeds of valour done\\n</td>\n",
              "      <td>(tf.Tensor(-0.051109336, shape=(), dtype=float...</td>\n",
              "    </tr>\n",
              "    <tr>\n",
              "      <th>4</th>\n",
              "      <td>till on this spot a monarch's fateh\\n</td>\n",
              "      <td>(tf.Tensor(0.017863087, shape=(), dtype=float3...</td>\n",
              "    </tr>\n",
              "    <tr>\n",
              "      <th>...</th>\n",
              "      <td>...</td>\n",
              "      <td>...</td>\n",
              "    </tr>\n",
              "    <tr>\n",
              "      <th>145</th>\n",
              "      <td>whatever crowns the hill or smiles along the v...</td>\n",
              "      <td>(tf.Tensor(0.045052286, shape=(), dtype=float3...</td>\n",
              "    </tr>\n",
              "    <tr>\n",
              "      <th>146</th>\n",
              "      <td>outcast of nature man the wretched thrall\\n</td>\n",
              "      <td>(tf.Tensor(0.058078557, shape=(), dtype=float3...</td>\n",
              "    </tr>\n",
              "    <tr>\n",
              "      <th>147</th>\n",
              "      <td>of bitterdropping sweat of sweltry pain\\n</td>\n",
              "      <td>(tf.Tensor(-0.013565971, shape=(), dtype=float...</td>\n",
              "    </tr>\n",
              "    <tr>\n",
              "      <th>148</th>\n",
              "      <td>of cares that eat away thy heart with gall\\n</td>\n",
              "      <td>(tf.Tensor(-0.02529077, shape=(), dtype=float3...</td>\n",
              "    </tr>\n",
              "    <tr>\n",
              "      <th>149</th>\n",
              "      <td>and of the vices an inhuman train\\n</td>\n",
              "      <td>(tf.Tensor(0.1027477, shape=(), dtype=float32)...</td>\n",
              "    </tr>\n",
              "  </tbody>\n",
              "</table>\n",
              "<p>150 rows × 2 columns</p>\n",
              "</div>\n",
              "      <button class=\"colab-df-convert\" onclick=\"convertToInteractive('df-41aca508-20d6-483a-a8a1-02a07c28b38c')\"\n",
              "              title=\"Convert this dataframe to an interactive table.\"\n",
              "              style=\"display:none;\">\n",
              "        \n",
              "  <svg xmlns=\"http://www.w3.org/2000/svg\" height=\"24px\"viewBox=\"0 0 24 24\"\n",
              "       width=\"24px\">\n",
              "    <path d=\"M0 0h24v24H0V0z\" fill=\"none\"/>\n",
              "    <path d=\"M18.56 5.44l.94 2.06.94-2.06 2.06-.94-2.06-.94-.94-2.06-.94 2.06-2.06.94zm-11 1L8.5 8.5l.94-2.06 2.06-.94-2.06-.94L8.5 2.5l-.94 2.06-2.06.94zm10 10l.94 2.06.94-2.06 2.06-.94-2.06-.94-.94-2.06-.94 2.06-2.06.94z\"/><path d=\"M17.41 7.96l-1.37-1.37c-.4-.4-.92-.59-1.43-.59-.52 0-1.04.2-1.43.59L10.3 9.45l-7.72 7.72c-.78.78-.78 2.05 0 2.83L4 21.41c.39.39.9.59 1.41.59.51 0 1.02-.2 1.41-.59l7.78-7.78 2.81-2.81c.8-.78.8-2.07 0-2.86zM5.41 20L4 18.59l7.72-7.72 1.47 1.35L5.41 20z\"/>\n",
              "  </svg>\n",
              "      </button>\n",
              "      \n",
              "  <style>\n",
              "    .colab-df-container {\n",
              "      display:flex;\n",
              "      flex-wrap:wrap;\n",
              "      gap: 12px;\n",
              "    }\n",
              "\n",
              "    .colab-df-convert {\n",
              "      background-color: #E8F0FE;\n",
              "      border: none;\n",
              "      border-radius: 50%;\n",
              "      cursor: pointer;\n",
              "      display: none;\n",
              "      fill: #1967D2;\n",
              "      height: 32px;\n",
              "      padding: 0 0 0 0;\n",
              "      width: 32px;\n",
              "    }\n",
              "\n",
              "    .colab-df-convert:hover {\n",
              "      background-color: #E2EBFA;\n",
              "      box-shadow: 0px 1px 2px rgba(60, 64, 67, 0.3), 0px 1px 3px 1px rgba(60, 64, 67, 0.15);\n",
              "      fill: #174EA6;\n",
              "    }\n",
              "\n",
              "    [theme=dark] .colab-df-convert {\n",
              "      background-color: #3B4455;\n",
              "      fill: #D2E3FC;\n",
              "    }\n",
              "\n",
              "    [theme=dark] .colab-df-convert:hover {\n",
              "      background-color: #434B5C;\n",
              "      box-shadow: 0px 1px 3px 1px rgba(0, 0, 0, 0.15);\n",
              "      filter: drop-shadow(0px 1px 2px rgba(0, 0, 0, 0.3));\n",
              "      fill: #FFFFFF;\n",
              "    }\n",
              "  </style>\n",
              "\n",
              "      <script>\n",
              "        const buttonEl =\n",
              "          document.querySelector('#df-41aca508-20d6-483a-a8a1-02a07c28b38c button.colab-df-convert');\n",
              "        buttonEl.style.display =\n",
              "          google.colab.kernel.accessAllowed ? 'block' : 'none';\n",
              "\n",
              "        async function convertToInteractive(key) {\n",
              "          const element = document.querySelector('#df-41aca508-20d6-483a-a8a1-02a07c28b38c');\n",
              "          const dataTable =\n",
              "            await google.colab.kernel.invokeFunction('convertToInteractive',\n",
              "                                                     [key], {});\n",
              "          if (!dataTable) return;\n",
              "\n",
              "          const docLinkHtml = 'Like what you see? Visit the ' +\n",
              "            '<a target=\"_blank\" href=https://colab.research.google.com/notebooks/data_table.ipynb>data table notebook</a>'\n",
              "            + ' to learn more about interactive tables.';\n",
              "          element.innerHTML = '';\n",
              "          dataTable['output_type'] = 'display_data';\n",
              "          await google.colab.output.renderOutput(dataTable, element);\n",
              "          const docLink = document.createElement('div');\n",
              "          docLink.innerHTML = docLinkHtml;\n",
              "          element.appendChild(docLink);\n",
              "        }\n",
              "      </script>\n",
              "    </div>\n",
              "  </div>\n",
              "  "
            ]
          },
          "metadata": {},
          "execution_count": 24
        }
      ]
    },
    {
      "cell_type": "markdown",
      "source": [
        "### Get embeddings for the predicted text"
      ],
      "metadata": {
        "id": "eHq67LecrA1J"
      }
    },
    {
      "cell_type": "code",
      "source": [
        "df['predicted_embedding'] = df['text'].map(generate_embedding_for_english_prediction)"
      ],
      "metadata": {
        "id": "RzV9v7SAq8eE",
        "colab": {
          "base_uri": "https://localhost:8080/"
        },
        "outputId": "143caf15-1a94-43bf-b034-91c0bbfb98e3"
      },
      "execution_count": null,
      "outputs": [
        {
          "output_type": "stream",
          "name": "stderr",
          "text": [
            "/usr/local/lib/python3.10/dist-packages/transformers/generation/utils.py:1219: UserWarning: You have modified the pretrained model configuration to control generation. This is a deprecated strategy to control generation and will be removed soon, in a future version. Please use a generation configuration file (see https://huggingface.co/docs/transformers/main_classes/text_generation)\n",
            "  warnings.warn(\n",
            "Input length of input_ids is 17, but `max_length` is set to 15. This can lead to unexpected behavior. You should consider increasing `max_new_tokens`.\n",
            "Input length of input_ids is 16, but `max_length` is set to 15. This can lead to unexpected behavior. You should consider increasing `max_new_tokens`.\n"
          ]
        }
      ]
    },
    {
      "cell_type": "code",
      "source": [
        "df"
      ],
      "metadata": {
        "id": "FUTpjmXK7-aD",
        "colab": {
          "base_uri": "https://localhost:8080/",
          "height": 641
        },
        "outputId": "c756ef71-a579-438c-f692-4507e5199c17"
      },
      "execution_count": null,
      "outputs": [
        {
          "output_type": "execute_result",
          "data": {
            "text/plain": [
              "                                                  text  \\\n",
              "0             dark storms his genial powers controul\\n   \n",
              "1    and willingly i close the deep ensanguin'd scr...   \n",
              "2                 years follow years slow rolling on\\n   \n",
              "3                     no daring deeds of valour done\\n   \n",
              "4                till on this spot a monarch's fateh\\n   \n",
              "..                                                 ...   \n",
              "145  whatever crowns the hill or smiles along the v...   \n",
              "146        outcast of nature man the wretched thrall\\n   \n",
              "147          of bitterdropping sweat of sweltry pain\\n   \n",
              "148       of cares that eat away thy heart with gall\\n   \n",
              "149                and of the vices an inhuman train\\n   \n",
              "\n",
              "                                            embeddings  \\\n",
              "0    (tf.Tensor(0.030426197, shape=(), dtype=float3...   \n",
              "1    (tf.Tensor(-0.006629959, shape=(), dtype=float...   \n",
              "2    (tf.Tensor(0.054826934, shape=(), dtype=float3...   \n",
              "3    (tf.Tensor(-0.051109336, shape=(), dtype=float...   \n",
              "4    (tf.Tensor(0.017863087, shape=(), dtype=float3...   \n",
              "..                                                 ...   \n",
              "145  (tf.Tensor(0.045052286, shape=(), dtype=float3...   \n",
              "146  (tf.Tensor(0.058078557, shape=(), dtype=float3...   \n",
              "147  (tf.Tensor(-0.013565971, shape=(), dtype=float...   \n",
              "148  (tf.Tensor(-0.02529077, shape=(), dtype=float3...   \n",
              "149  (tf.Tensor(0.1027477, shape=(), dtype=float32)...   \n",
              "\n",
              "                                   predicted_embedding  \n",
              "0    [((tf.Tensor(0.04336138, shape=(), dtype=float...  \n",
              "1    [((tf.Tensor(-0.00882976, shape=(), dtype=floa...  \n",
              "2    [((tf.Tensor(0.025598433, shape=(), dtype=floa...  \n",
              "3    [((tf.Tensor(-0.023306172, shape=(), dtype=flo...  \n",
              "4    [((tf.Tensor(0.032662664, shape=(), dtype=floa...  \n",
              "..                                                 ...  \n",
              "145  [((tf.Tensor(0.034978043, shape=(), dtype=floa...  \n",
              "146  [((tf.Tensor(0.09407078, shape=(), dtype=float...  \n",
              "147  [((tf.Tensor(-0.060619242, shape=(), dtype=flo...  \n",
              "148  [((tf.Tensor(-0.050496154, shape=(), dtype=flo...  \n",
              "149  [((tf.Tensor(0.076021366, shape=(), dtype=floa...  \n",
              "\n",
              "[150 rows x 3 columns]"
            ],
            "text/html": [
              "\n",
              "  <div id=\"df-665d6f58-27c3-429f-bb8d-b91409cb9a40\">\n",
              "    <div class=\"colab-df-container\">\n",
              "      <div>\n",
              "<style scoped>\n",
              "    .dataframe tbody tr th:only-of-type {\n",
              "        vertical-align: middle;\n",
              "    }\n",
              "\n",
              "    .dataframe tbody tr th {\n",
              "        vertical-align: top;\n",
              "    }\n",
              "\n",
              "    .dataframe thead th {\n",
              "        text-align: right;\n",
              "    }\n",
              "</style>\n",
              "<table border=\"1\" class=\"dataframe\">\n",
              "  <thead>\n",
              "    <tr style=\"text-align: right;\">\n",
              "      <th></th>\n",
              "      <th>text</th>\n",
              "      <th>embeddings</th>\n",
              "      <th>predicted_embedding</th>\n",
              "    </tr>\n",
              "  </thead>\n",
              "  <tbody>\n",
              "    <tr>\n",
              "      <th>0</th>\n",
              "      <td>dark storms his genial powers controul\\n</td>\n",
              "      <td>(tf.Tensor(0.030426197, shape=(), dtype=float3...</td>\n",
              "      <td>[((tf.Tensor(0.04336138, shape=(), dtype=float...</td>\n",
              "    </tr>\n",
              "    <tr>\n",
              "      <th>1</th>\n",
              "      <td>and willingly i close the deep ensanguin'd scr...</td>\n",
              "      <td>(tf.Tensor(-0.006629959, shape=(), dtype=float...</td>\n",
              "      <td>[((tf.Tensor(-0.00882976, shape=(), dtype=floa...</td>\n",
              "    </tr>\n",
              "    <tr>\n",
              "      <th>2</th>\n",
              "      <td>years follow years slow rolling on\\n</td>\n",
              "      <td>(tf.Tensor(0.054826934, shape=(), dtype=float3...</td>\n",
              "      <td>[((tf.Tensor(0.025598433, shape=(), dtype=floa...</td>\n",
              "    </tr>\n",
              "    <tr>\n",
              "      <th>3</th>\n",
              "      <td>no daring deeds of valour done\\n</td>\n",
              "      <td>(tf.Tensor(-0.051109336, shape=(), dtype=float...</td>\n",
              "      <td>[((tf.Tensor(-0.023306172, shape=(), dtype=flo...</td>\n",
              "    </tr>\n",
              "    <tr>\n",
              "      <th>4</th>\n",
              "      <td>till on this spot a monarch's fateh\\n</td>\n",
              "      <td>(tf.Tensor(0.017863087, shape=(), dtype=float3...</td>\n",
              "      <td>[((tf.Tensor(0.032662664, shape=(), dtype=floa...</td>\n",
              "    </tr>\n",
              "    <tr>\n",
              "      <th>...</th>\n",
              "      <td>...</td>\n",
              "      <td>...</td>\n",
              "      <td>...</td>\n",
              "    </tr>\n",
              "    <tr>\n",
              "      <th>145</th>\n",
              "      <td>whatever crowns the hill or smiles along the v...</td>\n",
              "      <td>(tf.Tensor(0.045052286, shape=(), dtype=float3...</td>\n",
              "      <td>[((tf.Tensor(0.034978043, shape=(), dtype=floa...</td>\n",
              "    </tr>\n",
              "    <tr>\n",
              "      <th>146</th>\n",
              "      <td>outcast of nature man the wretched thrall\\n</td>\n",
              "      <td>(tf.Tensor(0.058078557, shape=(), dtype=float3...</td>\n",
              "      <td>[((tf.Tensor(0.09407078, shape=(), dtype=float...</td>\n",
              "    </tr>\n",
              "    <tr>\n",
              "      <th>147</th>\n",
              "      <td>of bitterdropping sweat of sweltry pain\\n</td>\n",
              "      <td>(tf.Tensor(-0.013565971, shape=(), dtype=float...</td>\n",
              "      <td>[((tf.Tensor(-0.060619242, shape=(), dtype=flo...</td>\n",
              "    </tr>\n",
              "    <tr>\n",
              "      <th>148</th>\n",
              "      <td>of cares that eat away thy heart with gall\\n</td>\n",
              "      <td>(tf.Tensor(-0.02529077, shape=(), dtype=float3...</td>\n",
              "      <td>[((tf.Tensor(-0.050496154, shape=(), dtype=flo...</td>\n",
              "    </tr>\n",
              "    <tr>\n",
              "      <th>149</th>\n",
              "      <td>and of the vices an inhuman train\\n</td>\n",
              "      <td>(tf.Tensor(0.1027477, shape=(), dtype=float32)...</td>\n",
              "      <td>[((tf.Tensor(0.076021366, shape=(), dtype=floa...</td>\n",
              "    </tr>\n",
              "  </tbody>\n",
              "</table>\n",
              "<p>150 rows × 3 columns</p>\n",
              "</div>\n",
              "      <button class=\"colab-df-convert\" onclick=\"convertToInteractive('df-665d6f58-27c3-429f-bb8d-b91409cb9a40')\"\n",
              "              title=\"Convert this dataframe to an interactive table.\"\n",
              "              style=\"display:none;\">\n",
              "        \n",
              "  <svg xmlns=\"http://www.w3.org/2000/svg\" height=\"24px\"viewBox=\"0 0 24 24\"\n",
              "       width=\"24px\">\n",
              "    <path d=\"M0 0h24v24H0V0z\" fill=\"none\"/>\n",
              "    <path d=\"M18.56 5.44l.94 2.06.94-2.06 2.06-.94-2.06-.94-.94-2.06-.94 2.06-2.06.94zm-11 1L8.5 8.5l.94-2.06 2.06-.94-2.06-.94L8.5 2.5l-.94 2.06-2.06.94zm10 10l.94 2.06.94-2.06 2.06-.94-2.06-.94-.94-2.06-.94 2.06-2.06.94z\"/><path d=\"M17.41 7.96l-1.37-1.37c-.4-.4-.92-.59-1.43-.59-.52 0-1.04.2-1.43.59L10.3 9.45l-7.72 7.72c-.78.78-.78 2.05 0 2.83L4 21.41c.39.39.9.59 1.41.59.51 0 1.02-.2 1.41-.59l7.78-7.78 2.81-2.81c.8-.78.8-2.07 0-2.86zM5.41 20L4 18.59l7.72-7.72 1.47 1.35L5.41 20z\"/>\n",
              "  </svg>\n",
              "      </button>\n",
              "      \n",
              "  <style>\n",
              "    .colab-df-container {\n",
              "      display:flex;\n",
              "      flex-wrap:wrap;\n",
              "      gap: 12px;\n",
              "    }\n",
              "\n",
              "    .colab-df-convert {\n",
              "      background-color: #E8F0FE;\n",
              "      border: none;\n",
              "      border-radius: 50%;\n",
              "      cursor: pointer;\n",
              "      display: none;\n",
              "      fill: #1967D2;\n",
              "      height: 32px;\n",
              "      padding: 0 0 0 0;\n",
              "      width: 32px;\n",
              "    }\n",
              "\n",
              "    .colab-df-convert:hover {\n",
              "      background-color: #E2EBFA;\n",
              "      box-shadow: 0px 1px 2px rgba(60, 64, 67, 0.3), 0px 1px 3px 1px rgba(60, 64, 67, 0.15);\n",
              "      fill: #174EA6;\n",
              "    }\n",
              "\n",
              "    [theme=dark] .colab-df-convert {\n",
              "      background-color: #3B4455;\n",
              "      fill: #D2E3FC;\n",
              "    }\n",
              "\n",
              "    [theme=dark] .colab-df-convert:hover {\n",
              "      background-color: #434B5C;\n",
              "      box-shadow: 0px 1px 3px 1px rgba(0, 0, 0, 0.15);\n",
              "      filter: drop-shadow(0px 1px 2px rgba(0, 0, 0, 0.3));\n",
              "      fill: #FFFFFF;\n",
              "    }\n",
              "  </style>\n",
              "\n",
              "      <script>\n",
              "        const buttonEl =\n",
              "          document.querySelector('#df-665d6f58-27c3-429f-bb8d-b91409cb9a40 button.colab-df-convert');\n",
              "        buttonEl.style.display =\n",
              "          google.colab.kernel.accessAllowed ? 'block' : 'none';\n",
              "\n",
              "        async function convertToInteractive(key) {\n",
              "          const element = document.querySelector('#df-665d6f58-27c3-429f-bb8d-b91409cb9a40');\n",
              "          const dataTable =\n",
              "            await google.colab.kernel.invokeFunction('convertToInteractive',\n",
              "                                                     [key], {});\n",
              "          if (!dataTable) return;\n",
              "\n",
              "          const docLinkHtml = 'Like what you see? Visit the ' +\n",
              "            '<a target=\"_blank\" href=https://colab.research.google.com/notebooks/data_table.ipynb>data table notebook</a>'\n",
              "            + ' to learn more about interactive tables.';\n",
              "          element.innerHTML = '';\n",
              "          dataTable['output_type'] = 'display_data';\n",
              "          await google.colab.output.renderOutput(dataTable, element);\n",
              "          const docLink = document.createElement('div');\n",
              "          docLink.innerHTML = docLinkHtml;\n",
              "          element.appendChild(docLink);\n",
              "        }\n",
              "      </script>\n",
              "    </div>\n",
              "  </div>\n",
              "  "
            ]
          },
          "metadata": {},
          "execution_count": 26
        }
      ]
    },
    {
      "cell_type": "markdown",
      "source": [
        "### Find the cosine similiraty between embeddings.\n"
      ],
      "metadata": {
        "id": "sD2ESNDop1Zf"
      }
    },
    {
      "cell_type": "code",
      "source": [
        "df['similarity'] = [i-i for i in range(df.shape[0])]\n",
        "df = df[df['predicted_embedding'].notna()]\n",
        "df.shape[0]\n"
      ],
      "metadata": {
        "id": "pY_Xf7h3p26l",
        "colab": {
          "base_uri": "https://localhost:8080/"
        },
        "outputId": "e05b453f-4aa4-405e-ed80-1b52297b3fef"
      },
      "execution_count": null,
      "outputs": [
        {
          "output_type": "execute_result",
          "data": {
            "text/plain": [
              "150"
            ]
          },
          "metadata": {},
          "execution_count": 27
        }
      ]
    },
    {
      "cell_type": "code",
      "source": [
        "for i in range(1, df.shape[0] - 1):\n",
        "    predicted_embedding = df['predicted_embedding'].iloc[i][0]\n",
        "    ground_truth_embedding = df['predicted_embedding'].iloc[i + 1][0]\n",
        "\n",
        "    df['similarity'].iloc[i] = calculate_similarity(predicted_embedding, ground_truth_embedding)\n"
      ],
      "metadata": {
        "id": "uKK_gLAZp1yJ",
        "colab": {
          "base_uri": "https://localhost:8080/"
        },
        "outputId": "86c6a14a-7e85-4706-8c76-12dbcc053dbd"
      },
      "execution_count": null,
      "outputs": [
        {
          "output_type": "stream",
          "name": "stderr",
          "text": [
            "<ipython-input-28-7ceef9f82e1c>:5: SettingWithCopyWarning: \n",
            "A value is trying to be set on a copy of a slice from a DataFrame\n",
            "\n",
            "See the caveats in the documentation: https://pandas.pydata.org/pandas-docs/stable/user_guide/indexing.html#returning-a-view-versus-a-copy\n",
            "  df['similarity'].iloc[i] = calculate_similarity(predicted_embedding, ground_truth_embedding)\n"
          ]
        }
      ]
    },
    {
      "cell_type": "markdown",
      "source": [
        "#### get some stats about similarities between the ground truth with the predicted embeddings."
      ],
      "metadata": {
        "id": "Po6Ee2BB8DXS"
      }
    },
    {
      "cell_type": "code",
      "source": [
        "df['similarity'].describe()"
      ],
      "metadata": {
        "id": "syAG8yGYqQQg",
        "colab": {
          "base_uri": "https://localhost:8080/"
        },
        "outputId": "bb05f337-bcad-402b-9eb3-9440994a3510"
      },
      "execution_count": null,
      "outputs": [
        {
          "output_type": "execute_result",
          "data": {
            "text/plain": [
              "count    150.000000\n",
              "mean       0.171373\n",
              "std        0.095159\n",
              "min       -0.040577\n",
              "25%        0.109182\n",
              "50%        0.165519\n",
              "75%        0.231312\n",
              "max        0.526495\n",
              "Name: similarity, dtype: float64"
            ]
          },
          "metadata": {},
          "execution_count": 29
        }
      ]
    },
    {
      "cell_type": "code",
      "source": [
        "print(\n",
        "    english_generator(\n",
        "        'dark storms his genial powers controul\\n',\n",
        "        max_length = 80\n",
        "        )[0]['generated_text']\n",
        "      )"
      ],
      "metadata": {
        "id": "oCiQgWpdqbOn",
        "colab": {
          "base_uri": "https://localhost:8080/"
        },
        "outputId": "765a4df9-99da-40a2-a272-d70dc209b466"
      },
      "execution_count": null,
      "outputs": [
        {
          "output_type": "stream",
          "name": "stdout",
          "text": [
            "dark storms his genial powers controul\n",
            "and in a moment when my heart felt warm'd his influence unvary'd\n",
            "all my fears were borne away with a calm roar\n",
            "and when our friendship expired the gilded bell\n",
            "then i saw the wreaths of virgil's flame flying\n",
            "and at our parting to each other sojourn'd in the air\n",
            "a thousand times\n"
          ]
        }
      ]
    },
    {
      "cell_type": "markdown",
      "source": [
        "## Model Enhancement:\n",
        "  1. fine-tune the model on more data.\n",
        "  2. Increase number of epochs during the tunning process."
      ],
      "metadata": {
        "id": "FYv8oGXjqUC9"
      }
    },
    {
      "cell_type": "markdown",
      "source": [
        "# Evaluate the Arabic one."
      ],
      "metadata": {
        "id": "Sd2zet7dtT7E"
      }
    },
    {
      "cell_type": "code",
      "source": [
        "print(\n",
        "    aragpt_generator_(\n",
        "        'لا  قلت شعرا ولا سمعت غنا ولا',\n",
        "        max_length = 80)[0]['generated_text']\n",
        "      )"
      ],
      "metadata": {
        "id": "3Q5N05-Tu0ij",
        "colab": {
          "base_uri": "https://localhost:8080/"
        },
        "outputId": "1c931a83-32cf-4bc6-be63-bf8862c89647"
      },
      "execution_count": null,
      "outputs": [
        {
          "output_type": "stream",
          "name": "stderr",
          "text": [
            "/usr/local/lib/python3.10/dist-packages/transformers/generation/utils.py:1219: UserWarning: You have modified the pretrained model configuration to control generation. This is a deprecated strategy to control generation and will be removed soon, in a future version. Please use a generation configuration file (see https://huggingface.co/docs/transformers/main_classes/text_generation)\n",
            "  warnings.warn(\n",
            "Setting `pad_token_id` to `eos_token_id`:0 for open-end generation.\n"
          ]
        },
        {
          "output_type": "stream",
          "name": "stdout",
          "text": [
            "لا  قلت شعرا ولا سمعت غنا ولا شربت الخمر\n",
            "إذا ما جئته لم تغن عنه ولم تطعني عن شرب الخمر\n",
            "ألم تر أن الله لا يفارقه وإن كان في الأرض من خمر\n",
            "فما أنت إلا خلائق قد عفت وما أنت إلا سقيم\n",
            "ولقد علمت أني لست أدري إن كنت صادقا أو كاذبا\n",
            "وأعلم أنني إذا جئت\n"
          ]
        }
      ]
    },
    {
      "cell_type": "markdown",
      "source": [
        "### Read the test data"
      ],
      "metadata": {
        "id": "9c6K8k0ZvO8m"
      }
    },
    {
      "cell_type": "code",
      "source": [
        "# Read the text file\n",
        "with open('test_dataset.txt', 'r') as file:\n",
        "    lines = file.readlines()\n",
        "\n",
        "# Create a DataFrame with each row as a sample\n",
        "df = pd.DataFrame({'text': lines})\n",
        "\n",
        "\n",
        "df['text'] = df['text'].astype(str)\n",
        "\n",
        "# Remove empty rows\n",
        "df = df[df['text'] != '']\n"
      ],
      "metadata": {
        "id": "XvH3vR91tnrD"
      },
      "execution_count": null,
      "outputs": []
    },
    {
      "cell_type": "code",
      "source": [
        "df = df.head(150)\n",
        "df"
      ],
      "metadata": {
        "colab": {
          "base_uri": "https://localhost:8080/",
          "height": 423
        },
        "id": "J_4xnZfUsLiD",
        "outputId": "7356b61e-acd0-42b6-e5de-039882535d99"
      },
      "execution_count": null,
      "outputs": [
        {
          "output_type": "execute_result",
          "data": {
            "text/plain": [
              "                                                  text\n",
              "0    إن أنت لم تلق لي المودة في صدر حبيبي وأنت مقتدر\\n\n",
              "1    لا قلت شعرا ولا سمعت غنا ولا جرى في مفاصلي الس...\n",
              "2          ولا أزال القرآن أدرسه أروح في درسه وأبتكر\\n\n",
              "3      وألزم الصوم والصلاة ولا أزال دهري بالخير آتمر\\n\n",
              "4       فما مضت بعد ذاك ثالثة حتى أتاني الحبيب يعتذر\\n\n",
              "..                                                 ...\n",
              "145  فقد جنيت الهموم منه وقد خليت قلبي يعوم في الفكر\\n\n",
              "146  لا أسعد القلب في هواه ولا يطمع في عزتي ولا خوري\\n\n",
              "147        عف ضميري وطيب خبري ولذتي في الحديث والنظر\\n\n",
              "148  هارون يا خير الخلائف كلهم ممن مضى فيهم وهذا ال...\n",
              "149   تتحاسد الآفاق وجهك بينها فكأنهن بحيث كنت ضرائر\\n\n",
              "\n",
              "[150 rows x 1 columns]"
            ],
            "text/html": [
              "\n",
              "  <div id=\"df-31844d98-3cf1-4d48-a8ea-84bef1cb7625\">\n",
              "    <div class=\"colab-df-container\">\n",
              "      <div>\n",
              "<style scoped>\n",
              "    .dataframe tbody tr th:only-of-type {\n",
              "        vertical-align: middle;\n",
              "    }\n",
              "\n",
              "    .dataframe tbody tr th {\n",
              "        vertical-align: top;\n",
              "    }\n",
              "\n",
              "    .dataframe thead th {\n",
              "        text-align: right;\n",
              "    }\n",
              "</style>\n",
              "<table border=\"1\" class=\"dataframe\">\n",
              "  <thead>\n",
              "    <tr style=\"text-align: right;\">\n",
              "      <th></th>\n",
              "      <th>text</th>\n",
              "    </tr>\n",
              "  </thead>\n",
              "  <tbody>\n",
              "    <tr>\n",
              "      <th>0</th>\n",
              "      <td>إن أنت لم تلق لي المودة في صدر حبيبي وأنت مقتدر\\n</td>\n",
              "    </tr>\n",
              "    <tr>\n",
              "      <th>1</th>\n",
              "      <td>لا قلت شعرا ولا سمعت غنا ولا جرى في مفاصلي الس...</td>\n",
              "    </tr>\n",
              "    <tr>\n",
              "      <th>2</th>\n",
              "      <td>ولا أزال القرآن أدرسه أروح في درسه وأبتكر\\n</td>\n",
              "    </tr>\n",
              "    <tr>\n",
              "      <th>3</th>\n",
              "      <td>وألزم الصوم والصلاة ولا أزال دهري بالخير آتمر\\n</td>\n",
              "    </tr>\n",
              "    <tr>\n",
              "      <th>4</th>\n",
              "      <td>فما مضت بعد ذاك ثالثة حتى أتاني الحبيب يعتذر\\n</td>\n",
              "    </tr>\n",
              "    <tr>\n",
              "      <th>...</th>\n",
              "      <td>...</td>\n",
              "    </tr>\n",
              "    <tr>\n",
              "      <th>145</th>\n",
              "      <td>فقد جنيت الهموم منه وقد خليت قلبي يعوم في الفكر\\n</td>\n",
              "    </tr>\n",
              "    <tr>\n",
              "      <th>146</th>\n",
              "      <td>لا أسعد القلب في هواه ولا يطمع في عزتي ولا خوري\\n</td>\n",
              "    </tr>\n",
              "    <tr>\n",
              "      <th>147</th>\n",
              "      <td>عف ضميري وطيب خبري ولذتي في الحديث والنظر\\n</td>\n",
              "    </tr>\n",
              "    <tr>\n",
              "      <th>148</th>\n",
              "      <td>هارون يا خير الخلائف كلهم ممن مضى فيهم وهذا ال...</td>\n",
              "    </tr>\n",
              "    <tr>\n",
              "      <th>149</th>\n",
              "      <td>تتحاسد الآفاق وجهك بينها فكأنهن بحيث كنت ضرائر\\n</td>\n",
              "    </tr>\n",
              "  </tbody>\n",
              "</table>\n",
              "<p>150 rows × 1 columns</p>\n",
              "</div>\n",
              "      <button class=\"colab-df-convert\" onclick=\"convertToInteractive('df-31844d98-3cf1-4d48-a8ea-84bef1cb7625')\"\n",
              "              title=\"Convert this dataframe to an interactive table.\"\n",
              "              style=\"display:none;\">\n",
              "        \n",
              "  <svg xmlns=\"http://www.w3.org/2000/svg\" height=\"24px\"viewBox=\"0 0 24 24\"\n",
              "       width=\"24px\">\n",
              "    <path d=\"M0 0h24v24H0V0z\" fill=\"none\"/>\n",
              "    <path d=\"M18.56 5.44l.94 2.06.94-2.06 2.06-.94-2.06-.94-.94-2.06-.94 2.06-2.06.94zm-11 1L8.5 8.5l.94-2.06 2.06-.94-2.06-.94L8.5 2.5l-.94 2.06-2.06.94zm10 10l.94 2.06.94-2.06 2.06-.94-2.06-.94-.94-2.06-.94 2.06-2.06.94z\"/><path d=\"M17.41 7.96l-1.37-1.37c-.4-.4-.92-.59-1.43-.59-.52 0-1.04.2-1.43.59L10.3 9.45l-7.72 7.72c-.78.78-.78 2.05 0 2.83L4 21.41c.39.39.9.59 1.41.59.51 0 1.02-.2 1.41-.59l7.78-7.78 2.81-2.81c.8-.78.8-2.07 0-2.86zM5.41 20L4 18.59l7.72-7.72 1.47 1.35L5.41 20z\"/>\n",
              "  </svg>\n",
              "      </button>\n",
              "      \n",
              "  <style>\n",
              "    .colab-df-container {\n",
              "      display:flex;\n",
              "      flex-wrap:wrap;\n",
              "      gap: 12px;\n",
              "    }\n",
              "\n",
              "    .colab-df-convert {\n",
              "      background-color: #E8F0FE;\n",
              "      border: none;\n",
              "      border-radius: 50%;\n",
              "      cursor: pointer;\n",
              "      display: none;\n",
              "      fill: #1967D2;\n",
              "      height: 32px;\n",
              "      padding: 0 0 0 0;\n",
              "      width: 32px;\n",
              "    }\n",
              "\n",
              "    .colab-df-convert:hover {\n",
              "      background-color: #E2EBFA;\n",
              "      box-shadow: 0px 1px 2px rgba(60, 64, 67, 0.3), 0px 1px 3px 1px rgba(60, 64, 67, 0.15);\n",
              "      fill: #174EA6;\n",
              "    }\n",
              "\n",
              "    [theme=dark] .colab-df-convert {\n",
              "      background-color: #3B4455;\n",
              "      fill: #D2E3FC;\n",
              "    }\n",
              "\n",
              "    [theme=dark] .colab-df-convert:hover {\n",
              "      background-color: #434B5C;\n",
              "      box-shadow: 0px 1px 3px 1px rgba(0, 0, 0, 0.15);\n",
              "      filter: drop-shadow(0px 1px 2px rgba(0, 0, 0, 0.3));\n",
              "      fill: #FFFFFF;\n",
              "    }\n",
              "  </style>\n",
              "\n",
              "      <script>\n",
              "        const buttonEl =\n",
              "          document.querySelector('#df-31844d98-3cf1-4d48-a8ea-84bef1cb7625 button.colab-df-convert');\n",
              "        buttonEl.style.display =\n",
              "          google.colab.kernel.accessAllowed ? 'block' : 'none';\n",
              "\n",
              "        async function convertToInteractive(key) {\n",
              "          const element = document.querySelector('#df-31844d98-3cf1-4d48-a8ea-84bef1cb7625');\n",
              "          const dataTable =\n",
              "            await google.colab.kernel.invokeFunction('convertToInteractive',\n",
              "                                                     [key], {});\n",
              "          if (!dataTable) return;\n",
              "\n",
              "          const docLinkHtml = 'Like what you see? Visit the ' +\n",
              "            '<a target=\"_blank\" href=https://colab.research.google.com/notebooks/data_table.ipynb>data table notebook</a>'\n",
              "            + ' to learn more about interactive tables.';\n",
              "          element.innerHTML = '';\n",
              "          dataTable['output_type'] = 'display_data';\n",
              "          await google.colab.output.renderOutput(dataTable, element);\n",
              "          const docLink = document.createElement('div');\n",
              "          docLink.innerHTML = docLinkHtml;\n",
              "          element.appendChild(docLink);\n",
              "        }\n",
              "      </script>\n",
              "    </div>\n",
              "  </div>\n",
              "  "
            ]
          },
          "metadata": {},
          "execution_count": 35
        }
      ]
    },
    {
      "cell_type": "markdown",
      "source": [
        "### Generate embeddings for the ground truth"
      ],
      "metadata": {
        "id": "EPE_6ahashyY"
      }
    },
    {
      "cell_type": "code",
      "source": [
        "embeddings = embed(\n",
        "    df['text'].to_list()\n",
        ")"
      ],
      "metadata": {
        "id": "ERQp__-tx4JE"
      },
      "execution_count": null,
      "outputs": []
    },
    {
      "cell_type": "code",
      "source": [
        "df['embeddings'] = [embedded_sentence for embedded_sentence in embeddings]\n",
        "df['predicted_embedding'] = [i-i for i in range(df.shape[0])]"
      ],
      "metadata": {
        "id": "MSi--fXhx7g2",
        "colab": {
          "base_uri": "https://localhost:8080/"
        },
        "outputId": "57895fda-593f-43c3-eb8e-37f6c260dea4"
      },
      "execution_count": null,
      "outputs": [
        {
          "output_type": "stream",
          "name": "stderr",
          "text": [
            "<ipython-input-37-85b835d7475c>:1: SettingWithCopyWarning: \n",
            "A value is trying to be set on a copy of a slice from a DataFrame.\n",
            "Try using .loc[row_indexer,col_indexer] = value instead\n",
            "\n",
            "See the caveats in the documentation: https://pandas.pydata.org/pandas-docs/stable/user_guide/indexing.html#returning-a-view-versus-a-copy\n",
            "  df['embeddings'] = [embedded_sentence for embedded_sentence in embeddings]\n",
            "<ipython-input-37-85b835d7475c>:2: SettingWithCopyWarning: \n",
            "A value is trying to be set on a copy of a slice from a DataFrame.\n",
            "Try using .loc[row_indexer,col_indexer] = value instead\n",
            "\n",
            "See the caveats in the documentation: https://pandas.pydata.org/pandas-docs/stable/user_guide/indexing.html#returning-a-view-versus-a-copy\n",
            "  df['predicted_embedding'] = [i-i for i in range(df.shape[0])]\n"
          ]
        }
      ]
    },
    {
      "cell_type": "code",
      "source": [
        "for i in range(150):\n",
        "    df['predicted_embedding'].iloc[i + 1] = generate_embedding_for_arabic_prediction(df['text'].iloc[i])"
      ],
      "metadata": {
        "id": "izZ_Qvvdx9nO"
      },
      "execution_count": null,
      "outputs": []
    },
    {
      "cell_type": "code",
      "source": [
        "df"
      ],
      "metadata": {
        "id": "EqEnycLax_2E",
        "colab": {
          "base_uri": "https://localhost:8080/",
          "height": 641
        },
        "outputId": "bc678e41-bbde-4923-e865-f8325fb20038"
      },
      "execution_count": null,
      "outputs": [
        {
          "output_type": "execute_result",
          "data": {
            "text/plain": [
              "                                                  text  \\\n",
              "0    إن أنت لم تلق لي المودة في صدر حبيبي وأنت مقتدر\\n   \n",
              "1    لا قلت شعرا ولا سمعت غنا ولا جرى في مفاصلي الس...   \n",
              "2          ولا أزال القرآن أدرسه أروح في درسه وأبتكر\\n   \n",
              "3      وألزم الصوم والصلاة ولا أزال دهري بالخير آتمر\\n   \n",
              "4       فما مضت بعد ذاك ثالثة حتى أتاني الحبيب يعتذر\\n   \n",
              "..                                                 ...   \n",
              "145  فقد جنيت الهموم منه وقد خليت قلبي يعوم في الفكر\\n   \n",
              "146  لا أسعد القلب في هواه ولا يطمع في عزتي ولا خوري\\n   \n",
              "147        عف ضميري وطيب خبري ولذتي في الحديث والنظر\\n   \n",
              "148  هارون يا خير الخلائف كلهم ممن مضى فيهم وهذا ال...   \n",
              "149   تتحاسد الآفاق وجهك بينها فكأنهن بحيث كنت ضرائر\\n   \n",
              "\n",
              "                                            embeddings  \\\n",
              "0    (tf.Tensor(-0.06311622, shape=(), dtype=float3...   \n",
              "1    (tf.Tensor(0.002743538, shape=(), dtype=float3...   \n",
              "2    (tf.Tensor(-0.02488508, shape=(), dtype=float3...   \n",
              "3    (tf.Tensor(-0.070586234, shape=(), dtype=float...   \n",
              "4    (tf.Tensor(-0.09535104, shape=(), dtype=float3...   \n",
              "..                                                 ...   \n",
              "145  (tf.Tensor(-0.035766374, shape=(), dtype=float...   \n",
              "146  (tf.Tensor(0.0029054228, shape=(), dtype=float...   \n",
              "147  (tf.Tensor(-0.032108683, shape=(), dtype=float...   \n",
              "148  (tf.Tensor(-0.092846386, shape=(), dtype=float...   \n",
              "149  (tf.Tensor(-0.055921003, shape=(), dtype=float...   \n",
              "\n",
              "                                   predicted_embedding  \n",
              "0                                                    0  \n",
              "1    [((tf.Tensor(-0.06398336, shape=(), dtype=floa...  \n",
              "2    [((tf.Tensor(-0.01238151, shape=(), dtype=floa...  \n",
              "3    [((tf.Tensor(-0.047599357, shape=(), dtype=flo...  \n",
              "4    [((tf.Tensor(-0.05444303, shape=(), dtype=floa...  \n",
              "..                                                 ...  \n",
              "145  [((tf.Tensor(-0.032759454, shape=(), dtype=flo...  \n",
              "146  [((tf.Tensor(-0.046809435, shape=(), dtype=flo...  \n",
              "147  [((tf.Tensor(-0.017058348, shape=(), dtype=flo...  \n",
              "148  [((tf.Tensor(-0.013523326, shape=(), dtype=flo...  \n",
              "149  [((tf.Tensor(-0.066109054, shape=(), dtype=flo...  \n",
              "\n",
              "[150 rows x 3 columns]"
            ],
            "text/html": [
              "\n",
              "  <div id=\"df-b91d416c-2ae7-4db5-a397-e6649dbdbc6c\">\n",
              "    <div class=\"colab-df-container\">\n",
              "      <div>\n",
              "<style scoped>\n",
              "    .dataframe tbody tr th:only-of-type {\n",
              "        vertical-align: middle;\n",
              "    }\n",
              "\n",
              "    .dataframe tbody tr th {\n",
              "        vertical-align: top;\n",
              "    }\n",
              "\n",
              "    .dataframe thead th {\n",
              "        text-align: right;\n",
              "    }\n",
              "</style>\n",
              "<table border=\"1\" class=\"dataframe\">\n",
              "  <thead>\n",
              "    <tr style=\"text-align: right;\">\n",
              "      <th></th>\n",
              "      <th>text</th>\n",
              "      <th>embeddings</th>\n",
              "      <th>predicted_embedding</th>\n",
              "    </tr>\n",
              "  </thead>\n",
              "  <tbody>\n",
              "    <tr>\n",
              "      <th>0</th>\n",
              "      <td>إن أنت لم تلق لي المودة في صدر حبيبي وأنت مقتدر\\n</td>\n",
              "      <td>(tf.Tensor(-0.06311622, shape=(), dtype=float3...</td>\n",
              "      <td>0</td>\n",
              "    </tr>\n",
              "    <tr>\n",
              "      <th>1</th>\n",
              "      <td>لا قلت شعرا ولا سمعت غنا ولا جرى في مفاصلي الس...</td>\n",
              "      <td>(tf.Tensor(0.002743538, shape=(), dtype=float3...</td>\n",
              "      <td>[((tf.Tensor(-0.06398336, shape=(), dtype=floa...</td>\n",
              "    </tr>\n",
              "    <tr>\n",
              "      <th>2</th>\n",
              "      <td>ولا أزال القرآن أدرسه أروح في درسه وأبتكر\\n</td>\n",
              "      <td>(tf.Tensor(-0.02488508, shape=(), dtype=float3...</td>\n",
              "      <td>[((tf.Tensor(-0.01238151, shape=(), dtype=floa...</td>\n",
              "    </tr>\n",
              "    <tr>\n",
              "      <th>3</th>\n",
              "      <td>وألزم الصوم والصلاة ولا أزال دهري بالخير آتمر\\n</td>\n",
              "      <td>(tf.Tensor(-0.070586234, shape=(), dtype=float...</td>\n",
              "      <td>[((tf.Tensor(-0.047599357, shape=(), dtype=flo...</td>\n",
              "    </tr>\n",
              "    <tr>\n",
              "      <th>4</th>\n",
              "      <td>فما مضت بعد ذاك ثالثة حتى أتاني الحبيب يعتذر\\n</td>\n",
              "      <td>(tf.Tensor(-0.09535104, shape=(), dtype=float3...</td>\n",
              "      <td>[((tf.Tensor(-0.05444303, shape=(), dtype=floa...</td>\n",
              "    </tr>\n",
              "    <tr>\n",
              "      <th>...</th>\n",
              "      <td>...</td>\n",
              "      <td>...</td>\n",
              "      <td>...</td>\n",
              "    </tr>\n",
              "    <tr>\n",
              "      <th>145</th>\n",
              "      <td>فقد جنيت الهموم منه وقد خليت قلبي يعوم في الفكر\\n</td>\n",
              "      <td>(tf.Tensor(-0.035766374, shape=(), dtype=float...</td>\n",
              "      <td>[((tf.Tensor(-0.032759454, shape=(), dtype=flo...</td>\n",
              "    </tr>\n",
              "    <tr>\n",
              "      <th>146</th>\n",
              "      <td>لا أسعد القلب في هواه ولا يطمع في عزتي ولا خوري\\n</td>\n",
              "      <td>(tf.Tensor(0.0029054228, shape=(), dtype=float...</td>\n",
              "      <td>[((tf.Tensor(-0.046809435, shape=(), dtype=flo...</td>\n",
              "    </tr>\n",
              "    <tr>\n",
              "      <th>147</th>\n",
              "      <td>عف ضميري وطيب خبري ولذتي في الحديث والنظر\\n</td>\n",
              "      <td>(tf.Tensor(-0.032108683, shape=(), dtype=float...</td>\n",
              "      <td>[((tf.Tensor(-0.017058348, shape=(), dtype=flo...</td>\n",
              "    </tr>\n",
              "    <tr>\n",
              "      <th>148</th>\n",
              "      <td>هارون يا خير الخلائف كلهم ممن مضى فيهم وهذا ال...</td>\n",
              "      <td>(tf.Tensor(-0.092846386, shape=(), dtype=float...</td>\n",
              "      <td>[((tf.Tensor(-0.013523326, shape=(), dtype=flo...</td>\n",
              "    </tr>\n",
              "    <tr>\n",
              "      <th>149</th>\n",
              "      <td>تتحاسد الآفاق وجهك بينها فكأنهن بحيث كنت ضرائر\\n</td>\n",
              "      <td>(tf.Tensor(-0.055921003, shape=(), dtype=float...</td>\n",
              "      <td>[((tf.Tensor(-0.066109054, shape=(), dtype=flo...</td>\n",
              "    </tr>\n",
              "  </tbody>\n",
              "</table>\n",
              "<p>150 rows × 3 columns</p>\n",
              "</div>\n",
              "      <button class=\"colab-df-convert\" onclick=\"convertToInteractive('df-b91d416c-2ae7-4db5-a397-e6649dbdbc6c')\"\n",
              "              title=\"Convert this dataframe to an interactive table.\"\n",
              "              style=\"display:none;\">\n",
              "        \n",
              "  <svg xmlns=\"http://www.w3.org/2000/svg\" height=\"24px\"viewBox=\"0 0 24 24\"\n",
              "       width=\"24px\">\n",
              "    <path d=\"M0 0h24v24H0V0z\" fill=\"none\"/>\n",
              "    <path d=\"M18.56 5.44l.94 2.06.94-2.06 2.06-.94-2.06-.94-.94-2.06-.94 2.06-2.06.94zm-11 1L8.5 8.5l.94-2.06 2.06-.94-2.06-.94L8.5 2.5l-.94 2.06-2.06.94zm10 10l.94 2.06.94-2.06 2.06-.94-2.06-.94-.94-2.06-.94 2.06-2.06.94z\"/><path d=\"M17.41 7.96l-1.37-1.37c-.4-.4-.92-.59-1.43-.59-.52 0-1.04.2-1.43.59L10.3 9.45l-7.72 7.72c-.78.78-.78 2.05 0 2.83L4 21.41c.39.39.9.59 1.41.59.51 0 1.02-.2 1.41-.59l7.78-7.78 2.81-2.81c.8-.78.8-2.07 0-2.86zM5.41 20L4 18.59l7.72-7.72 1.47 1.35L5.41 20z\"/>\n",
              "  </svg>\n",
              "      </button>\n",
              "      \n",
              "  <style>\n",
              "    .colab-df-container {\n",
              "      display:flex;\n",
              "      flex-wrap:wrap;\n",
              "      gap: 12px;\n",
              "    }\n",
              "\n",
              "    .colab-df-convert {\n",
              "      background-color: #E8F0FE;\n",
              "      border: none;\n",
              "      border-radius: 50%;\n",
              "      cursor: pointer;\n",
              "      display: none;\n",
              "      fill: #1967D2;\n",
              "      height: 32px;\n",
              "      padding: 0 0 0 0;\n",
              "      width: 32px;\n",
              "    }\n",
              "\n",
              "    .colab-df-convert:hover {\n",
              "      background-color: #E2EBFA;\n",
              "      box-shadow: 0px 1px 2px rgba(60, 64, 67, 0.3), 0px 1px 3px 1px rgba(60, 64, 67, 0.15);\n",
              "      fill: #174EA6;\n",
              "    }\n",
              "\n",
              "    [theme=dark] .colab-df-convert {\n",
              "      background-color: #3B4455;\n",
              "      fill: #D2E3FC;\n",
              "    }\n",
              "\n",
              "    [theme=dark] .colab-df-convert:hover {\n",
              "      background-color: #434B5C;\n",
              "      box-shadow: 0px 1px 3px 1px rgba(0, 0, 0, 0.15);\n",
              "      filter: drop-shadow(0px 1px 2px rgba(0, 0, 0, 0.3));\n",
              "      fill: #FFFFFF;\n",
              "    }\n",
              "  </style>\n",
              "\n",
              "      <script>\n",
              "        const buttonEl =\n",
              "          document.querySelector('#df-b91d416c-2ae7-4db5-a397-e6649dbdbc6c button.colab-df-convert');\n",
              "        buttonEl.style.display =\n",
              "          google.colab.kernel.accessAllowed ? 'block' : 'none';\n",
              "\n",
              "        async function convertToInteractive(key) {\n",
              "          const element = document.querySelector('#df-b91d416c-2ae7-4db5-a397-e6649dbdbc6c');\n",
              "          const dataTable =\n",
              "            await google.colab.kernel.invokeFunction('convertToInteractive',\n",
              "                                                     [key], {});\n",
              "          if (!dataTable) return;\n",
              "\n",
              "          const docLinkHtml = 'Like what you see? Visit the ' +\n",
              "            '<a target=\"_blank\" href=https://colab.research.google.com/notebooks/data_table.ipynb>data table notebook</a>'\n",
              "            + ' to learn more about interactive tables.';\n",
              "          element.innerHTML = '';\n",
              "          dataTable['output_type'] = 'display_data';\n",
              "          await google.colab.output.renderOutput(dataTable, element);\n",
              "          const docLink = document.createElement('div');\n",
              "          docLink.innerHTML = docLinkHtml;\n",
              "          element.appendChild(docLink);\n",
              "        }\n",
              "      </script>\n",
              "    </div>\n",
              "  </div>\n",
              "  "
            ]
          },
          "metadata": {},
          "execution_count": 57
        }
      ]
    },
    {
      "cell_type": "markdown",
      "source": [
        "### Finding similarity between the textual embedding."
      ],
      "metadata": {
        "id": "Q684SooCtpUf"
      }
    },
    {
      "cell_type": "code",
      "source": [
        "df['similarity'] = [i-i for i in range(df.shape[0])]\n",
        "df = df[df['predicted_embedding'].notna()]"
      ],
      "metadata": {
        "id": "jzklE5hTyBWx",
        "colab": {
          "base_uri": "https://localhost:8080/"
        },
        "outputId": "f390221a-b210-4d02-a266-3ff5f0a21421"
      },
      "execution_count": null,
      "outputs": [
        {
          "output_type": "stream",
          "name": "stderr",
          "text": [
            "<ipython-input-59-c2fe3f0383f6>:1: SettingWithCopyWarning: \n",
            "A value is trying to be set on a copy of a slice from a DataFrame.\n",
            "Try using .loc[row_indexer,col_indexer] = value instead\n",
            "\n",
            "See the caveats in the documentation: https://pandas.pydata.org/pandas-docs/stable/user_guide/indexing.html#returning-a-view-versus-a-copy\n",
            "  df['similarity'] = [i-i for i in range(df.shape[0])]\n"
          ]
        }
      ]
    },
    {
      "cell_type": "code",
      "source": [
        "for i in range(1, 149):\n",
        "    predicted_embedding = df['predicted_embedding'].iloc[i][0]\n",
        "    ground_truth_embedding = df['predicted_embedding'].iloc[i + 1][0]\n",
        "\n",
        "    df['similarity'].iloc[i] = calculate_similarity(predicted_embedding, ground_truth_embedding)"
      ],
      "metadata": {
        "id": "UmK2npDbyDkR",
        "colab": {
          "base_uri": "https://localhost:8080/"
        },
        "outputId": "74a80cf3-7954-464a-95a4-6b5fe5885add"
      },
      "execution_count": null,
      "outputs": [
        {
          "output_type": "stream",
          "name": "stderr",
          "text": [
            "<ipython-input-60-f7b12fe918cf>:5: SettingWithCopyWarning: \n",
            "A value is trying to be set on a copy of a slice from a DataFrame\n",
            "\n",
            "See the caveats in the documentation: https://pandas.pydata.org/pandas-docs/stable/user_guide/indexing.html#returning-a-view-versus-a-copy\n",
            "  df['similarity'].iloc[i] = calculate_similarity(predicted_embedding, ground_truth_embedding)\n"
          ]
        }
      ]
    },
    {
      "cell_type": "code",
      "source": [
        "df"
      ],
      "metadata": {
        "id": "w4d_Jqj3yLxh",
        "colab": {
          "base_uri": "https://localhost:8080/",
          "height": 710
        },
        "outputId": "9a10ca19-73df-43d9-8a79-ad82d60e78cd"
      },
      "execution_count": null,
      "outputs": [
        {
          "output_type": "execute_result",
          "data": {
            "text/plain": [
              "                                                  text  \\\n",
              "0    إن أنت لم تلق لي المودة في صدر حبيبي وأنت مقتدر\\n   \n",
              "1    لا قلت شعرا ولا سمعت غنا ولا جرى في مفاصلي الس...   \n",
              "2          ولا أزال القرآن أدرسه أروح في درسه وأبتكر\\n   \n",
              "3      وألزم الصوم والصلاة ولا أزال دهري بالخير آتمر\\n   \n",
              "4       فما مضت بعد ذاك ثالثة حتى أتاني الحبيب يعتذر\\n   \n",
              "..                                                 ...   \n",
              "145  فقد جنيت الهموم منه وقد خليت قلبي يعوم في الفكر\\n   \n",
              "146  لا أسعد القلب في هواه ولا يطمع في عزتي ولا خوري\\n   \n",
              "147        عف ضميري وطيب خبري ولذتي في الحديث والنظر\\n   \n",
              "148  هارون يا خير الخلائف كلهم ممن مضى فيهم وهذا ال...   \n",
              "149   تتحاسد الآفاق وجهك بينها فكأنهن بحيث كنت ضرائر\\n   \n",
              "\n",
              "                                            embeddings  \\\n",
              "0    (tf.Tensor(-0.06311622, shape=(), dtype=float3...   \n",
              "1    (tf.Tensor(0.002743538, shape=(), dtype=float3...   \n",
              "2    (tf.Tensor(-0.02488508, shape=(), dtype=float3...   \n",
              "3    (tf.Tensor(-0.070586234, shape=(), dtype=float...   \n",
              "4    (tf.Tensor(-0.09535104, shape=(), dtype=float3...   \n",
              "..                                                 ...   \n",
              "145  (tf.Tensor(-0.035766374, shape=(), dtype=float...   \n",
              "146  (tf.Tensor(0.0029054228, shape=(), dtype=float...   \n",
              "147  (tf.Tensor(-0.032108683, shape=(), dtype=float...   \n",
              "148  (tf.Tensor(-0.092846386, shape=(), dtype=float...   \n",
              "149  (tf.Tensor(-0.055921003, shape=(), dtype=float...   \n",
              "\n",
              "                                   predicted_embedding  similarity  \n",
              "0                                                    0    0.000000  \n",
              "1    [((tf.Tensor(-0.06398336, shape=(), dtype=floa...    0.818250  \n",
              "2    [((tf.Tensor(-0.01238151, shape=(), dtype=floa...    0.918899  \n",
              "3    [((tf.Tensor(-0.047599357, shape=(), dtype=flo...    0.872685  \n",
              "4    [((tf.Tensor(-0.05444303, shape=(), dtype=floa...    0.822680  \n",
              "..                                                 ...         ...  \n",
              "145  [((tf.Tensor(-0.032759454, shape=(), dtype=flo...    0.842943  \n",
              "146  [((tf.Tensor(-0.046809435, shape=(), dtype=flo...    0.795328  \n",
              "147  [((tf.Tensor(-0.017058348, shape=(), dtype=flo...    0.869164  \n",
              "148  [((tf.Tensor(-0.013523326, shape=(), dtype=flo...    0.781546  \n",
              "149  [((tf.Tensor(-0.066109054, shape=(), dtype=flo...    0.000000  \n",
              "\n",
              "[150 rows x 4 columns]"
            ],
            "text/html": [
              "\n",
              "  <div id=\"df-a9ac1899-bacd-4b88-aa45-e81015861e96\">\n",
              "    <div class=\"colab-df-container\">\n",
              "      <div>\n",
              "<style scoped>\n",
              "    .dataframe tbody tr th:only-of-type {\n",
              "        vertical-align: middle;\n",
              "    }\n",
              "\n",
              "    .dataframe tbody tr th {\n",
              "        vertical-align: top;\n",
              "    }\n",
              "\n",
              "    .dataframe thead th {\n",
              "        text-align: right;\n",
              "    }\n",
              "</style>\n",
              "<table border=\"1\" class=\"dataframe\">\n",
              "  <thead>\n",
              "    <tr style=\"text-align: right;\">\n",
              "      <th></th>\n",
              "      <th>text</th>\n",
              "      <th>embeddings</th>\n",
              "      <th>predicted_embedding</th>\n",
              "      <th>similarity</th>\n",
              "    </tr>\n",
              "  </thead>\n",
              "  <tbody>\n",
              "    <tr>\n",
              "      <th>0</th>\n",
              "      <td>إن أنت لم تلق لي المودة في صدر حبيبي وأنت مقتدر\\n</td>\n",
              "      <td>(tf.Tensor(-0.06311622, shape=(), dtype=float3...</td>\n",
              "      <td>0</td>\n",
              "      <td>0.000000</td>\n",
              "    </tr>\n",
              "    <tr>\n",
              "      <th>1</th>\n",
              "      <td>لا قلت شعرا ولا سمعت غنا ولا جرى في مفاصلي الس...</td>\n",
              "      <td>(tf.Tensor(0.002743538, shape=(), dtype=float3...</td>\n",
              "      <td>[((tf.Tensor(-0.06398336, shape=(), dtype=floa...</td>\n",
              "      <td>0.818250</td>\n",
              "    </tr>\n",
              "    <tr>\n",
              "      <th>2</th>\n",
              "      <td>ولا أزال القرآن أدرسه أروح في درسه وأبتكر\\n</td>\n",
              "      <td>(tf.Tensor(-0.02488508, shape=(), dtype=float3...</td>\n",
              "      <td>[((tf.Tensor(-0.01238151, shape=(), dtype=floa...</td>\n",
              "      <td>0.918899</td>\n",
              "    </tr>\n",
              "    <tr>\n",
              "      <th>3</th>\n",
              "      <td>وألزم الصوم والصلاة ولا أزال دهري بالخير آتمر\\n</td>\n",
              "      <td>(tf.Tensor(-0.070586234, shape=(), dtype=float...</td>\n",
              "      <td>[((tf.Tensor(-0.047599357, shape=(), dtype=flo...</td>\n",
              "      <td>0.872685</td>\n",
              "    </tr>\n",
              "    <tr>\n",
              "      <th>4</th>\n",
              "      <td>فما مضت بعد ذاك ثالثة حتى أتاني الحبيب يعتذر\\n</td>\n",
              "      <td>(tf.Tensor(-0.09535104, shape=(), dtype=float3...</td>\n",
              "      <td>[((tf.Tensor(-0.05444303, shape=(), dtype=floa...</td>\n",
              "      <td>0.822680</td>\n",
              "    </tr>\n",
              "    <tr>\n",
              "      <th>...</th>\n",
              "      <td>...</td>\n",
              "      <td>...</td>\n",
              "      <td>...</td>\n",
              "      <td>...</td>\n",
              "    </tr>\n",
              "    <tr>\n",
              "      <th>145</th>\n",
              "      <td>فقد جنيت الهموم منه وقد خليت قلبي يعوم في الفكر\\n</td>\n",
              "      <td>(tf.Tensor(-0.035766374, shape=(), dtype=float...</td>\n",
              "      <td>[((tf.Tensor(-0.032759454, shape=(), dtype=flo...</td>\n",
              "      <td>0.842943</td>\n",
              "    </tr>\n",
              "    <tr>\n",
              "      <th>146</th>\n",
              "      <td>لا أسعد القلب في هواه ولا يطمع في عزتي ولا خوري\\n</td>\n",
              "      <td>(tf.Tensor(0.0029054228, shape=(), dtype=float...</td>\n",
              "      <td>[((tf.Tensor(-0.046809435, shape=(), dtype=flo...</td>\n",
              "      <td>0.795328</td>\n",
              "    </tr>\n",
              "    <tr>\n",
              "      <th>147</th>\n",
              "      <td>عف ضميري وطيب خبري ولذتي في الحديث والنظر\\n</td>\n",
              "      <td>(tf.Tensor(-0.032108683, shape=(), dtype=float...</td>\n",
              "      <td>[((tf.Tensor(-0.017058348, shape=(), dtype=flo...</td>\n",
              "      <td>0.869164</td>\n",
              "    </tr>\n",
              "    <tr>\n",
              "      <th>148</th>\n",
              "      <td>هارون يا خير الخلائف كلهم ممن مضى فيهم وهذا ال...</td>\n",
              "      <td>(tf.Tensor(-0.092846386, shape=(), dtype=float...</td>\n",
              "      <td>[((tf.Tensor(-0.013523326, shape=(), dtype=flo...</td>\n",
              "      <td>0.781546</td>\n",
              "    </tr>\n",
              "    <tr>\n",
              "      <th>149</th>\n",
              "      <td>تتحاسد الآفاق وجهك بينها فكأنهن بحيث كنت ضرائر\\n</td>\n",
              "      <td>(tf.Tensor(-0.055921003, shape=(), dtype=float...</td>\n",
              "      <td>[((tf.Tensor(-0.066109054, shape=(), dtype=flo...</td>\n",
              "      <td>0.000000</td>\n",
              "    </tr>\n",
              "  </tbody>\n",
              "</table>\n",
              "<p>150 rows × 4 columns</p>\n",
              "</div>\n",
              "      <button class=\"colab-df-convert\" onclick=\"convertToInteractive('df-a9ac1899-bacd-4b88-aa45-e81015861e96')\"\n",
              "              title=\"Convert this dataframe to an interactive table.\"\n",
              "              style=\"display:none;\">\n",
              "        \n",
              "  <svg xmlns=\"http://www.w3.org/2000/svg\" height=\"24px\"viewBox=\"0 0 24 24\"\n",
              "       width=\"24px\">\n",
              "    <path d=\"M0 0h24v24H0V0z\" fill=\"none\"/>\n",
              "    <path d=\"M18.56 5.44l.94 2.06.94-2.06 2.06-.94-2.06-.94-.94-2.06-.94 2.06-2.06.94zm-11 1L8.5 8.5l.94-2.06 2.06-.94-2.06-.94L8.5 2.5l-.94 2.06-2.06.94zm10 10l.94 2.06.94-2.06 2.06-.94-2.06-.94-.94-2.06-.94 2.06-2.06.94z\"/><path d=\"M17.41 7.96l-1.37-1.37c-.4-.4-.92-.59-1.43-.59-.52 0-1.04.2-1.43.59L10.3 9.45l-7.72 7.72c-.78.78-.78 2.05 0 2.83L4 21.41c.39.39.9.59 1.41.59.51 0 1.02-.2 1.41-.59l7.78-7.78 2.81-2.81c.8-.78.8-2.07 0-2.86zM5.41 20L4 18.59l7.72-7.72 1.47 1.35L5.41 20z\"/>\n",
              "  </svg>\n",
              "      </button>\n",
              "      \n",
              "  <style>\n",
              "    .colab-df-container {\n",
              "      display:flex;\n",
              "      flex-wrap:wrap;\n",
              "      gap: 12px;\n",
              "    }\n",
              "\n",
              "    .colab-df-convert {\n",
              "      background-color: #E8F0FE;\n",
              "      border: none;\n",
              "      border-radius: 50%;\n",
              "      cursor: pointer;\n",
              "      display: none;\n",
              "      fill: #1967D2;\n",
              "      height: 32px;\n",
              "      padding: 0 0 0 0;\n",
              "      width: 32px;\n",
              "    }\n",
              "\n",
              "    .colab-df-convert:hover {\n",
              "      background-color: #E2EBFA;\n",
              "      box-shadow: 0px 1px 2px rgba(60, 64, 67, 0.3), 0px 1px 3px 1px rgba(60, 64, 67, 0.15);\n",
              "      fill: #174EA6;\n",
              "    }\n",
              "\n",
              "    [theme=dark] .colab-df-convert {\n",
              "      background-color: #3B4455;\n",
              "      fill: #D2E3FC;\n",
              "    }\n",
              "\n",
              "    [theme=dark] .colab-df-convert:hover {\n",
              "      background-color: #434B5C;\n",
              "      box-shadow: 0px 1px 3px 1px rgba(0, 0, 0, 0.15);\n",
              "      filter: drop-shadow(0px 1px 2px rgba(0, 0, 0, 0.3));\n",
              "      fill: #FFFFFF;\n",
              "    }\n",
              "  </style>\n",
              "\n",
              "      <script>\n",
              "        const buttonEl =\n",
              "          document.querySelector('#df-a9ac1899-bacd-4b88-aa45-e81015861e96 button.colab-df-convert');\n",
              "        buttonEl.style.display =\n",
              "          google.colab.kernel.accessAllowed ? 'block' : 'none';\n",
              "\n",
              "        async function convertToInteractive(key) {\n",
              "          const element = document.querySelector('#df-a9ac1899-bacd-4b88-aa45-e81015861e96');\n",
              "          const dataTable =\n",
              "            await google.colab.kernel.invokeFunction('convertToInteractive',\n",
              "                                                     [key], {});\n",
              "          if (!dataTable) return;\n",
              "\n",
              "          const docLinkHtml = 'Like what you see? Visit the ' +\n",
              "            '<a target=\"_blank\" href=https://colab.research.google.com/notebooks/data_table.ipynb>data table notebook</a>'\n",
              "            + ' to learn more about interactive tables.';\n",
              "          element.innerHTML = '';\n",
              "          dataTable['output_type'] = 'display_data';\n",
              "          await google.colab.output.renderOutput(dataTable, element);\n",
              "          const docLink = document.createElement('div');\n",
              "          docLink.innerHTML = docLinkHtml;\n",
              "          element.appendChild(docLink);\n",
              "        }\n",
              "      </script>\n",
              "    </div>\n",
              "  </div>\n",
              "  "
            ]
          },
          "metadata": {},
          "execution_count": 61
        }
      ]
    },
    {
      "cell_type": "code",
      "source": [
        "df['similarity'].describe()"
      ],
      "metadata": {
        "id": "t0gQiIUAyTtd",
        "colab": {
          "base_uri": "https://localhost:8080/"
        },
        "outputId": "f90a5e4e-a972-4e3a-fca6-63328197955a"
      },
      "execution_count": null,
      "outputs": [
        {
          "output_type": "execute_result",
          "data": {
            "text/plain": [
              "count    150.000000\n",
              "mean       0.714752\n",
              "std        0.168792\n",
              "min        0.000000\n",
              "25%        0.654878\n",
              "50%        0.768025\n",
              "75%        0.822542\n",
              "max        0.958033\n",
              "Name: similarity, dtype: float64"
            ]
          },
          "metadata": {},
          "execution_count": 62
        }
      ]
    },
    {
      "cell_type": "markdown",
      "source": [
        "**Comparing this result with results I had from the english transformer, Aragpt-2 performed better than it.**"
      ],
      "metadata": {
        "id": "EaYKPQoFyWbP"
      }
    }
  ]
}